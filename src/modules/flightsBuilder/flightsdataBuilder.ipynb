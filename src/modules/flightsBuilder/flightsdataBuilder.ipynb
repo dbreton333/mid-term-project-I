{
 "cells": [
  {
   "cell_type": "code",
   "execution_count": 1,
   "id": "743c3a49",
   "metadata": {},
   "outputs": [],
   "source": [
    "import pandas as pd\n",
    "import numpy as np\n",
    "import psycopg2\n",
    "import pandas.io.sql as sqlio"
   ]
  },
  {
   "cell_type": "code",
   "execution_count": 2,
   "id": "c3f90ebc-7195-44d6-a739-5ebbaabb5660",
   "metadata": {},
   "outputs": [],
   "source": [
    "import matplotlib.pyplot as plt\n",
    "import matplotlib as mpl\n",
    "%matplotlib inline\n",
    "import seaborn as sns\n",
    "sns.set_style('darkgrid')\n",
    "pd.set_option('display.max_columns', None)\n",
    "import datetime, warnings, scipy\n",
    "warnings.filterwarnings(\"ignore\")"
   ]
  },
  {
   "cell_type": "markdown",
   "id": "83143070",
   "metadata": {},
   "source": [
    "## load Csv data"
   ]
  },
  {
   "cell_type": "code",
   "execution_count": 3,
   "id": "a2b99e43",
   "metadata": {},
   "outputs": [],
   "source": [
    "#import WNinitCsv as csv\n",
    "#con = psycopg2.connect(database=\"mid_term_project\", user=\"lhl_student\", password=\"lhl_student\", host=\"mid-term-project.ca2jkepgjpne.us-east-2.rds.amazonaws.com\", port=\"5432\")\n",
    "#cur = con.cursor()\n",
    "#csv.WNinitCsv()"
   ]
  },
  {
   "cell_type": "markdown",
   "id": "6dc73ff9",
   "metadata": {},
   "source": [
    "## Clean Data"
   ]
  },
  {
   "cell_type": "code",
   "execution_count": 4,
   "id": "a2ed0ae1",
   "metadata": {},
   "outputs": [],
   "source": [
    "WNflight = pd.read_csv('../../../data/flights_by_top_origin.csv')"
   ]
  },
  {
   "cell_type": "code",
   "execution_count": 5,
   "id": "199aa4d8",
   "metadata": {},
   "outputs": [],
   "source": [
    "#We don't need them since same as mkt_carrier\n",
    "WNflight.drop(['mkt_unique_carrier','mkt_carrier_fl_num','op_unique_carrier','branded_code_share'],axis=1,inplace=True)"
   ]
  },
  {
   "cell_type": "code",
   "execution_count": 6,
   "id": "881526b3",
   "metadata": {},
   "outputs": [],
   "source": [
    "#IN names\n",
    "WNflights02 = WNflight.drop(['origin','dest'],axis=1)"
   ]
  },
  {
   "cell_type": "code",
   "execution_count": 7,
   "id": "b0a12f90",
   "metadata": {},
   "outputs": [],
   "source": [
    "#do not want cancelled flights\n",
    "WNflights02 = WNflights02[WNflights02['cancelled'] == 0.0]"
   ]
  },
  {
   "cell_type": "code",
   "execution_count": 8,
   "id": "b35c494f-cd2b-4339-8244-0d850f3bde7f",
   "metadata": {},
   "outputs": [],
   "source": [
    "WNflights03 = WNflights02.copy()"
   ]
  },
  {
   "cell_type": "code",
   "execution_count": 9,
   "id": "4072935f",
   "metadata": {},
   "outputs": [],
   "source": [
    "#Cancelled useless for training\n",
    "WNflights03.drop(['cancelled'],axis=1,inplace=True)"
   ]
  },
  {
   "cell_type": "code",
   "execution_count": 10,
   "id": "1176fde0",
   "metadata": {},
   "outputs": [
    {
     "data": {
      "text/html": [
       "<div>\n",
       "<style scoped>\n",
       "    .dataframe tbody tr th:only-of-type {\n",
       "        vertical-align: middle;\n",
       "    }\n",
       "\n",
       "    .dataframe tbody tr th {\n",
       "        vertical-align: top;\n",
       "    }\n",
       "\n",
       "    .dataframe thead th {\n",
       "        text-align: right;\n",
       "    }\n",
       "</style>\n",
       "<table border=\"1\" class=\"dataframe\">\n",
       "  <thead>\n",
       "    <tr style=\"text-align: right;\">\n",
       "      <th></th>\n",
       "      <th>fl_date</th>\n",
       "      <th>mkt_carrier</th>\n",
       "      <th>tail_num</th>\n",
       "      <th>op_carrier_fl_num</th>\n",
       "      <th>origin_airport_id</th>\n",
       "      <th>origin_city_name</th>\n",
       "      <th>dest_airport_id</th>\n",
       "      <th>dest_city_name</th>\n",
       "      <th>crs_dep_time</th>\n",
       "      <th>dep_time</th>\n",
       "      <th>dep_delay</th>\n",
       "      <th>taxi_out</th>\n",
       "      <th>wheels_off</th>\n",
       "      <th>wheels_on</th>\n",
       "      <th>taxi_in</th>\n",
       "      <th>crs_arr_time</th>\n",
       "      <th>arr_time</th>\n",
       "      <th>arr_delay</th>\n",
       "      <th>cancellation_code</th>\n",
       "      <th>diverted</th>\n",
       "      <th>dup</th>\n",
       "      <th>crs_elapsed_time</th>\n",
       "      <th>actual_elapsed_time</th>\n",
       "      <th>air_time</th>\n",
       "      <th>flights</th>\n",
       "      <th>distance</th>\n",
       "      <th>carrier_delay</th>\n",
       "      <th>weather_delay</th>\n",
       "      <th>nas_delay</th>\n",
       "      <th>security_delay</th>\n",
       "      <th>late_aircraft_delay</th>\n",
       "      <th>first_dep_time</th>\n",
       "      <th>total_add_gtime</th>\n",
       "      <th>longest_add_gtime</th>\n",
       "      <th>no_name</th>\n",
       "    </tr>\n",
       "  </thead>\n",
       "  <tbody>\n",
       "  </tbody>\n",
       "</table>\n",
       "</div>"
      ],
      "text/plain": [
       "Empty DataFrame\n",
       "Columns: [fl_date, mkt_carrier, tail_num, op_carrier_fl_num, origin_airport_id, origin_city_name, dest_airport_id, dest_city_name, crs_dep_time, dep_time, dep_delay, taxi_out, wheels_off, wheels_on, taxi_in, crs_arr_time, arr_time, arr_delay, cancellation_code, diverted, dup, crs_elapsed_time, actual_elapsed_time, air_time, flights, distance, carrier_delay, weather_delay, nas_delay, security_delay, late_aircraft_delay, first_dep_time, total_add_gtime, longest_add_gtime, no_name]\n",
       "Index: []"
      ]
     },
     "execution_count": 10,
     "metadata": {},
     "output_type": "execute_result"
    }
   ],
   "source": [
    "WNflights03[WNflights03['dup'] == \"Y\"]"
   ]
  },
  {
   "cell_type": "code",
   "execution_count": 11,
   "id": "13e9ee0a",
   "metadata": {},
   "outputs": [],
   "source": [
    "## dup has no Y value\n",
    "WNflights03.drop(['dup'],axis =1, inplace=True)"
   ]
  },
  {
   "cell_type": "code",
   "execution_count": 12,
   "id": "5d593ef2",
   "metadata": {},
   "outputs": [],
   "source": [
    "WNflights03 = WNflights03[WNflights03['arr_delay'].notnull()]"
   ]
  },
  {
   "cell_type": "code",
   "execution_count": 13,
   "id": "18a28ed8-161d-4090-b766-e3da62acf2b9",
   "metadata": {},
   "outputs": [],
   "source": [
    "## all mostly empty or repeated data\n",
    "WNflights03.drop(['no_name','longest_add_gtime','total_add_gtime','first_dep_time'],axis=1, inplace=True)"
   ]
  },
  {
   "cell_type": "code",
   "execution_count": 14,
   "id": "da7b4cfa-ad21-42ea-a13e-84ae571c90f1",
   "metadata": {},
   "outputs": [],
   "source": [
    "## only 1 for flights\n",
    "WNflights03.drop(['flights'],axis=1, inplace=True)"
   ]
  },
  {
   "cell_type": "code",
   "execution_count": 15,
   "id": "1616beb5-4d75-4ada-bc13-0e15cbb64792",
   "metadata": {},
   "outputs": [],
   "source": [
    "#repeated info\n",
    "WNflights03.drop(['dep_time','arr_time'],axis=1, inplace=True)"
   ]
  },
  {
   "cell_type": "code",
   "execution_count": 16,
   "id": "a2009f15-2172-4405-a011-3b6b7fa06daa",
   "metadata": {},
   "outputs": [],
   "source": [
    "## all the same\n",
    "WNflights03.drop(['diverted'],axis=1, inplace=True)"
   ]
  },
  {
   "cell_type": "code",
   "execution_count": 17,
   "id": "644d82c4-b3df-4c9a-b76c-6e374bb19dd6",
   "metadata": {},
   "outputs": [],
   "source": [
    "#useless\n",
    "WNflights03.drop(['cancellation_code'],axis=1, inplace=True)"
   ]
  },
  {
   "cell_type": "markdown",
   "id": "fe0031e1-7515-4a53-9958-c9c58c7abfbe",
   "metadata": {},
   "source": [
    "## Relationship Tests"
   ]
  },
  {
   "cell_type": "code",
   "execution_count": 18,
   "id": "c8d732f1-408f-4626-8793-92ed5f892063",
   "metadata": {},
   "outputs": [],
   "source": [
    "WNflights03['flight_status'] = (WNflights03['arr_delay'] > 15).replace([True,False],[1,0])"
   ]
  },
  {
   "cell_type": "code",
   "execution_count": 19,
   "id": "8226411d-39e7-4a4a-a0ac-ec62a2b81d4f",
   "metadata": {},
   "outputs": [
    {
     "data": {
      "image/png": "[encoded data removed]",
      "text/plain": [
       "<Figure size 1440x720 with 1 Axes>"
      ]
     },
     "metadata": {},
     "output_type": "display_data"
    }
   ],
   "source": [
    "\n",
    "plt.figure(figsize=(20, 10))\n",
    "sns.set(font_scale=1.6)\n",
    "axis = sns.countplot(x=WNflights03['mkt_carrier'], data=WNflights03, order=WNflights03['mkt_carrier'].value_counts().iloc[0:18].index, orient=\"v\")\n",
    "axis.set_xticklabels(axis.get_xticklabels(), rotation=90, ha='right')\n",
    "plt.title('TOTAL NUMBER OF FLIGHTS BY AIRLINE', fontsize=24)\n",
    "plt.xlabel('OP_CARRIER/AIRLINE', fontsize=18)\n",
    "plt.ylabel('NUMBER OF FLIGHTS', fontsize=18)\n",
    "plt.tight_layout()\n",
    "plt.show()"
   ]
  },
  {
   "cell_type": "code",
   "execution_count": 20,
   "id": "c6de5926-1d38-4765-91d1-d84fcaa806a0",
   "metadata": {},
   "outputs": [
    {
     "data": {
      "image/png": "[encoded data removed]",
      "text/plain": [
       "<Figure size 1440x720 with 1 Axes>"
      ]
     },
     "metadata": {},
     "output_type": "display_data"
    }
   ],
   "source": [
    "\n",
    "plt.figure(figsize=(20, 10))\n",
    "WNflights03.groupby('mkt_carrier').flight_status.sum().sort_values(ascending=False).plot.bar()\n",
    "plt.title('TOTAL DELAYED FLIGHTS BY AIRLINE', fontsize=20)\n",
    "plt.xlabel('AIRLINEE NAME', fontsize=16)\n",
    "plt.ylabel('NUMBRE OF FLIGHTS', fontsize=16)\n",
    "plt.rc('xtick',labelsize=10)\n",
    "plt.rc('ytick',labelsize=10)\n",
    "plt.show()"
   ]
  },
  {
   "cell_type": "code",
   "execution_count": 65,
   "id": "9eaa298e-e8e1-4627-bfc4-775f48a44250",
   "metadata": {},
   "outputs": [],
   "source": [
    "test_1 = WNflights03[['mkt_carrier', 'flight_status']].groupby(['mkt_carrier']).sum().reset_index()\n",
    "test_2 = WNflights03.mkt_carrier.value_counts().rename_axis('mkt_carrier').reset_index(name='TOTAL_FLIGHTS')\n",
    "overview = pd.merge(test_1, test_2, on='mkt_carrier')\n",
    "overview['carrier_perc_delay'] = round((overview['flight_status']*100)/overview['TOTAL_FLIGHTS'], 2)\n",
    "overview.rename({'FLIGHT_STATUS': 'DELAYED_FLIGHTS'}, axis=1, inplace=True)"
   ]
  },
  {
   "cell_type": "code",
   "execution_count": 66,
   "id": "6624ba86-7440-4f42-b712-dae63e0c01cd",
   "metadata": {},
   "outputs": [
    {
     "data": {
      "image/png": "[encoded data removed]",
      "text/plain": [
       "<Figure size 1440x720 with 1 Axes>"
      ]
     },
     "metadata": {},
     "output_type": "display_data"
    }
   ],
   "source": [
    "plt.figure(figsize=(20, 10))\n",
    "overview.groupby('mkt_carrier').carrier_perc_delay.sum().sort_values(ascending=False).plot.bar(fontsize=14)\n",
    "plt.title('PERCENTAGE OF DELAYED FLIGHTS BY AIRLINE', fontsize=20)\n",
    "plt.xlabel('AIRLINE', fontsize=16)\n",
    "plt.ylabel('PERCENTAGE', fontsize=16)\n",
    "plt.rc('xtick',labelsize=14)\n",
    "plt.rc('ytick',labelsize=14)\n",
    "plt.show()"
   ]
  },
  {
   "cell_type": "code",
   "execution_count": 56,
   "id": "014678cf-4214-427d-a09f-041e93cdbb3a",
   "metadata": {},
   "outputs": [],
   "source": [
    "test_3 = WNflights03[['mkt_carrier', 'arr_delay']]\n",
    "test_3 = test_3.groupby(['mkt_carrier']).mean().reset_index()\n",
    "test_3.rename({'arr_delay': 'carrier_delay'}, axis=1, inplace=True)\n",
    "test_3 = test_3.sort_values(['carrier_delay']).reset_index(drop=True)"
   ]
  },
  {
   "cell_type": "code",
   "execution_count": 58,
   "id": "cc64a3a3-7cac-4886-af28-08d783c26944",
   "metadata": {},
   "outputs": [
    {
     "data": {
      "image/png": "[encoded data removed]",
      "text/plain": [
       "<Figure size 1080x648 with 1 Axes>"
      ]
     },
     "metadata": {},
     "output_type": "display_data"
    }
   ],
   "source": [
    "fig = plt.figure(1, figsize=(15,9))\n",
    "sns.set(font_scale=1.6)\n",
    "ax = sns.barplot(x='carrier_delay', y='mkt_carrier', data=test_3)\n",
    "ax.set_title('AVERAGE ARRIVAL DELAY BY AIRLINE (mins)', fontsize=18)\n",
    "ax.set_xlabel('AVERAGE DELAY BY AIRLINE (min)', fontsize=14)\n",
    "plt.show()"
   ]
  },
  {
   "cell_type": "markdown",
   "id": "8a367755-cdd9-4f4b-875b-a77d79e59ff2",
   "metadata": {},
   "source": [
    "## Some more cleaning"
   ]
  },
  {
   "cell_type": "code",
   "execution_count": 25,
   "id": "f73fceaf-84ca-456a-8ea4-fbe0e3158757",
   "metadata": {},
   "outputs": [],
   "source": [
    "WNflights04 = WNflights03.copy()"
   ]
  },
  {
   "cell_type": "code",
   "execution_count": 26,
   "id": "6044ecf3-1eaa-4f08-b576-8190279c5759",
   "metadata": {},
   "outputs": [],
   "source": [
    "WNflights04.drop(['carrier_delay','weather_delay','nas_delay','security_delay','late_aircraft_delay'], axis=1, inplace=True)"
   ]
  },
  {
   "cell_type": "code",
   "execution_count": 27,
   "id": "76c966be-49a5-4700-a2dd-3d0ea28ea28d",
   "metadata": {},
   "outputs": [],
   "source": [
    "WNflights04.drop(['air_time'], axis=1,inplace=True)"
   ]
  },
  {
   "cell_type": "code",
   "execution_count": 28,
   "id": "80ae7af7-bbf8-4eb4-a223-9f94240f23a0",
   "metadata": {},
   "outputs": [],
   "source": [
    "WNflights04.drop(['actual_elapsed_time'], axis=1,inplace=True)"
   ]
  },
  {
   "cell_type": "code",
   "execution_count": 29,
   "id": "10b6b801-b71e-4207-be1e-8a11102f6e38",
   "metadata": {},
   "outputs": [],
   "source": [
    "WNflights04.drop(['taxi_out','wheels_off','taxi_in','wheels_on'], axis=1,inplace=True)"
   ]
  },
  {
   "cell_type": "markdown",
   "id": "d46aa7c8-c0fa-460e-afe4-382bb5521a19",
   "metadata": {},
   "source": [
    "## Some more Tests"
   ]
  },
  {
   "cell_type": "code",
   "execution_count": 30,
   "id": "0b44fd0b-60d3-497f-91b7-fc1a35d1f308",
   "metadata": {},
   "outputs": [
    {
     "data": {
      "text/html": [
       "<div>\n",
       "<style scoped>\n",
       "    .dataframe tbody tr th:only-of-type {\n",
       "        vertical-align: middle;\n",
       "    }\n",
       "\n",
       "    .dataframe tbody tr th {\n",
       "        vertical-align: top;\n",
       "    }\n",
       "\n",
       "    .dataframe thead th {\n",
       "        text-align: right;\n",
       "    }\n",
       "</style>\n",
       "<table border=\"1\" class=\"dataframe\">\n",
       "  <thead>\n",
       "    <tr style=\"text-align: right;\">\n",
       "      <th></th>\n",
       "      <th>fl_num</th>\n",
       "      <th>fl_delay</th>\n",
       "    </tr>\n",
       "  </thead>\n",
       "  <tbody>\n",
       "    <tr>\n",
       "      <th>6973</th>\n",
       "      <td>9341</td>\n",
       "      <td>1110.000000</td>\n",
       "    </tr>\n",
       "    <tr>\n",
       "      <th>6999</th>\n",
       "      <td>9389</td>\n",
       "      <td>720.500000</td>\n",
       "    </tr>\n",
       "    <tr>\n",
       "      <th>6926</th>\n",
       "      <td>7306</td>\n",
       "      <td>492.000000</td>\n",
       "    </tr>\n",
       "    <tr>\n",
       "      <th>6994</th>\n",
       "      <td>9383</td>\n",
       "      <td>337.000000</td>\n",
       "    </tr>\n",
       "    <tr>\n",
       "      <th>6996</th>\n",
       "      <td>9386</td>\n",
       "      <td>309.214286</td>\n",
       "    </tr>\n",
       "    <tr>\n",
       "      <th>...</th>\n",
       "      <td>...</td>\n",
       "      <td>...</td>\n",
       "    </tr>\n",
       "    <tr>\n",
       "      <th>6943</th>\n",
       "      <td>7678</td>\n",
       "      <td>-23.000000</td>\n",
       "    </tr>\n",
       "    <tr>\n",
       "      <th>6919</th>\n",
       "      <td>6998</td>\n",
       "      <td>-27.000000</td>\n",
       "    </tr>\n",
       "    <tr>\n",
       "      <th>6940</th>\n",
       "      <td>7460</td>\n",
       "      <td>-28.000000</td>\n",
       "    </tr>\n",
       "    <tr>\n",
       "      <th>6933</th>\n",
       "      <td>7340</td>\n",
       "      <td>-28.000000</td>\n",
       "    </tr>\n",
       "    <tr>\n",
       "      <th>6680</th>\n",
       "      <td>6706</td>\n",
       "      <td>-28.000000</td>\n",
       "    </tr>\n",
       "  </tbody>\n",
       "</table>\n",
       "<p>7001 rows × 2 columns</p>\n",
       "</div>"
      ],
      "text/plain": [
       "      fl_num     fl_delay\n",
       "6973    9341  1110.000000\n",
       "6999    9389   720.500000\n",
       "6926    7306   492.000000\n",
       "6994    9383   337.000000\n",
       "6996    9386   309.214286\n",
       "...      ...          ...\n",
       "6943    7678   -23.000000\n",
       "6919    6998   -27.000000\n",
       "6940    7460   -28.000000\n",
       "6933    7340   -28.000000\n",
       "6680    6706   -28.000000\n",
       "\n",
       "[7001 rows x 2 columns]"
      ]
     },
     "execution_count": 30,
     "metadata": {},
     "output_type": "execute_result"
    }
   ],
   "source": [
    "test04 = WNflights04.groupby('op_carrier_fl_num').mean()['arr_delay']\n",
    "test04 = pd.DataFrame({'fl_num':test04.index,'fl_delay':test04.values})\n",
    "test04.sort_values('fl_delay',ascending=False)"
   ]
  },
  {
   "cell_type": "code",
   "execution_count": 31,
   "id": "3f1eab95-8e99-4c27-b9c0-73b9bf386d60",
   "metadata": {},
   "outputs": [
    {
     "data": {
      "text/html": [
       "<div>\n",
       "<style scoped>\n",
       "    .dataframe tbody tr th:only-of-type {\n",
       "        vertical-align: middle;\n",
       "    }\n",
       "\n",
       "    .dataframe tbody tr th {\n",
       "        vertical-align: top;\n",
       "    }\n",
       "\n",
       "    .dataframe thead th {\n",
       "        text-align: right;\n",
       "    }\n",
       "</style>\n",
       "<table border=\"1\" class=\"dataframe\">\n",
       "  <thead>\n",
       "    <tr style=\"text-align: right;\">\n",
       "      <th></th>\n",
       "      <th>tail_num</th>\n",
       "      <th>tail_delay</th>\n",
       "    </tr>\n",
       "  </thead>\n",
       "  <tbody>\n",
       "    <tr>\n",
       "      <th>3552</th>\n",
       "      <td>N684RW</td>\n",
       "      <td>503.000000</td>\n",
       "    </tr>\n",
       "    <tr>\n",
       "      <th>86</th>\n",
       "      <td>883GA</td>\n",
       "      <td>446.000000</td>\n",
       "    </tr>\n",
       "    <tr>\n",
       "      <th>9</th>\n",
       "      <td>224NV</td>\n",
       "      <td>338.000000</td>\n",
       "    </tr>\n",
       "    <tr>\n",
       "      <th>1205</th>\n",
       "      <td>N2749U</td>\n",
       "      <td>227.000000</td>\n",
       "    </tr>\n",
       "    <tr>\n",
       "      <th>151</th>\n",
       "      <td>N11187</td>\n",
       "      <td>198.000000</td>\n",
       "    </tr>\n",
       "    <tr>\n",
       "      <th>...</th>\n",
       "      <td>...</td>\n",
       "      <td>...</td>\n",
       "    </tr>\n",
       "    <tr>\n",
       "      <th>6200</th>\n",
       "      <td>N973JB</td>\n",
       "      <td>-20.333333</td>\n",
       "    </tr>\n",
       "    <tr>\n",
       "      <th>6028</th>\n",
       "      <td>N956DN</td>\n",
       "      <td>-22.000000</td>\n",
       "    </tr>\n",
       "    <tr>\n",
       "      <th>934</th>\n",
       "      <td>N228HA</td>\n",
       "      <td>-24.750000</td>\n",
       "    </tr>\n",
       "    <tr>\n",
       "      <th>6379</th>\n",
       "      <td>N999JB</td>\n",
       "      <td>-25.000000</td>\n",
       "    </tr>\n",
       "    <tr>\n",
       "      <th>149</th>\n",
       "      <td>N11181</td>\n",
       "      <td>-31.000000</td>\n",
       "    </tr>\n",
       "  </tbody>\n",
       "</table>\n",
       "<p>6381 rows × 2 columns</p>\n",
       "</div>"
      ],
      "text/plain": [
       "     tail_num  tail_delay\n",
       "3552   N684RW  503.000000\n",
       "86      883GA  446.000000\n",
       "9       224NV  338.000000\n",
       "1205   N2749U  227.000000\n",
       "151    N11187  198.000000\n",
       "...       ...         ...\n",
       "6200   N973JB  -20.333333\n",
       "6028   N956DN  -22.000000\n",
       "934    N228HA  -24.750000\n",
       "6379   N999JB  -25.000000\n",
       "149    N11181  -31.000000\n",
       "\n",
       "[6381 rows x 2 columns]"
      ]
     },
     "execution_count": 31,
     "metadata": {},
     "output_type": "execute_result"
    }
   ],
   "source": [
    "test05 = WNflights04.groupby('tail_num').mean()['arr_delay']\n",
    "test05 = pd.DataFrame({'tail_num':test05.index,'tail_delay':test05.values})\n",
    "test05.sort_values('tail_delay',ascending=False)"
   ]
  },
  {
   "cell_type": "code",
   "execution_count": 32,
   "id": "e4b7302e-9a21-4f87-b860-390721098b8a",
   "metadata": {},
   "outputs": [],
   "source": [
    "dates = WNflights04['fl_date'].values.tolist()"
   ]
  },
  {
   "cell_type": "code",
   "execution_count": 33,
   "id": "5df45b34-8fe2-4f89-b999-114492aabc40",
   "metadata": {},
   "outputs": [],
   "source": [
    "month = []\n",
    "day = []\n",
    "year = []\n",
    "for i in dates:\n",
    "    year.append(i[0:4])\n",
    "    month.append(i[5:7])\n",
    "    day.append(i[8:10])"
   ]
  },
  {
   "cell_type": "code",
   "execution_count": 34,
   "id": "df97f044-291c-46b8-8565-68e2c09db5e5",
   "metadata": {},
   "outputs": [],
   "source": [
    "WNflights04['day'] = day\n",
    "WNflights04['month'] = month\n",
    "WNflights04['year'] = year"
   ]
  },
  {
   "cell_type": "code",
   "execution_count": 48,
   "id": "3d40fc6e-1aa2-496b-bca2-e1f74123e1a2",
   "metadata": {},
   "outputs": [],
   "source": [
    "test07 = WNflights04[['month','arr_delay']]\n",
    "test07 = test07.groupby(['month'],as_index=False).mean()\n",
    "test07 = test07.rename({'arr_delay':'month_delay'},axis=1)\n",
    "test07 = test07.sort_values('month_delay',ascending=False)"
   ]
  },
  {
   "cell_type": "code",
   "execution_count": 49,
   "id": "3450f100-17e0-48fd-86a6-2718dbc12710",
   "metadata": {},
   "outputs": [
    {
     "data": {
      "text/html": [
       "<div>\n",
       "<style scoped>\n",
       "    .dataframe tbody tr th:only-of-type {\n",
       "        vertical-align: middle;\n",
       "    }\n",
       "\n",
       "    .dataframe tbody tr th {\n",
       "        vertical-align: top;\n",
       "    }\n",
       "\n",
       "    .dataframe thead th {\n",
       "        text-align: right;\n",
       "    }\n",
       "</style>\n",
       "<table border=\"1\" class=\"dataframe\">\n",
       "  <thead>\n",
       "    <tr style=\"text-align: right;\">\n",
       "      <th></th>\n",
       "      <th>month</th>\n",
       "      <th>month_delay</th>\n",
       "    </tr>\n",
       "  </thead>\n",
       "  <tbody>\n",
       "    <tr>\n",
       "      <th>5</th>\n",
       "      <td>06</td>\n",
       "      <td>12.772289</td>\n",
       "    </tr>\n",
       "    <tr>\n",
       "      <th>6</th>\n",
       "      <td>07</td>\n",
       "      <td>9.934667</td>\n",
       "    </tr>\n",
       "    <tr>\n",
       "      <th>7</th>\n",
       "      <td>08</td>\n",
       "      <td>9.543098</td>\n",
       "    </tr>\n",
       "    <tr>\n",
       "      <th>4</th>\n",
       "      <td>05</td>\n",
       "      <td>7.783456</td>\n",
       "    </tr>\n",
       "    <tr>\n",
       "      <th>1</th>\n",
       "      <td>02</td>\n",
       "      <td>6.956543</td>\n",
       "    </tr>\n",
       "    <tr>\n",
       "      <th>11</th>\n",
       "      <td>12</td>\n",
       "      <td>5.605429</td>\n",
       "    </tr>\n",
       "    <tr>\n",
       "      <th>0</th>\n",
       "      <td>01</td>\n",
       "      <td>4.221989</td>\n",
       "    </tr>\n",
       "    <tr>\n",
       "      <th>9</th>\n",
       "      <td>10</td>\n",
       "      <td>3.764646</td>\n",
       "    </tr>\n",
       "    <tr>\n",
       "      <th>3</th>\n",
       "      <td>04</td>\n",
       "      <td>3.667013</td>\n",
       "    </tr>\n",
       "    <tr>\n",
       "      <th>10</th>\n",
       "      <td>11</td>\n",
       "      <td>3.454152</td>\n",
       "    </tr>\n",
       "    <tr>\n",
       "      <th>8</th>\n",
       "      <td>09</td>\n",
       "      <td>3.139074</td>\n",
       "    </tr>\n",
       "    <tr>\n",
       "      <th>2</th>\n",
       "      <td>03</td>\n",
       "      <td>3.101050</td>\n",
       "    </tr>\n",
       "  </tbody>\n",
       "</table>\n",
       "</div>"
      ],
      "text/plain": [
       "   month  month_delay\n",
       "5     06    12.772289\n",
       "6     07     9.934667\n",
       "7     08     9.543098\n",
       "4     05     7.783456\n",
       "1     02     6.956543\n",
       "11    12     5.605429\n",
       "0     01     4.221989\n",
       "9     10     3.764646\n",
       "3     04     3.667013\n",
       "10    11     3.454152\n",
       "8     09     3.139074\n",
       "2     03     3.101050"
      ]
     },
     "execution_count": 49,
     "metadata": {},
     "output_type": "execute_result"
    }
   ],
   "source": [
    "test07"
   ]
  },
  {
   "cell_type": "code",
   "execution_count": 50,
   "id": "0a9c5597-044c-47f3-b8f2-b403245d910a",
   "metadata": {},
   "outputs": [
    {
     "data": {
      "text/plain": [
       "<Figure size 1440x720 with 0 Axes>"
      ]
     },
     "metadata": {},
     "output_type": "display_data"
    },
    {
     "data": {
      "image/png": "[encoded data removed]",
      "text/plain": [
       "<Figure size 432x288 with 1 Axes>"
      ]
     },
     "metadata": {},
     "output_type": "display_data"
    }
   ],
   "source": [
    "plt.figure(figsize=(20,10))\n",
    "test07.plot.bar(fontsize=13)\n",
    "plt.title('Month Delay',fontsize=20)\n",
    "plt.xlabel('Month', fontsize=16)\n",
    "plt.ylabel('Delay', fontsize=16)\n",
    "plt.rc('xtick',labelsize=10)\n",
    "plt.rc('ytick',labelsize=10)\n",
    "plt.show()"
   ]
  },
  {
   "cell_type": "code",
   "execution_count": 44,
   "id": "7a391c39-b1c6-459f-a040-16807bc64f14",
   "metadata": {},
   "outputs": [],
   "source": [
    "#test08 = WNflights04.groupby(['origin_airport_id','dest_airport_id','mkt_carrier']).mean()['arr_delay']"
   ]
  },
  {
   "cell_type": "code",
   "execution_count": 45,
   "id": "666f9a1d-c0ca-4ae5-952b-c1a3143d4500",
   "metadata": {},
   "outputs": [],
   "source": [
    "#test08.index"
   ]
  },
  {
   "cell_type": "code",
   "execution_count": 59,
   "id": "fcf30903-b09a-42be-9bc3-ee85db427267",
   "metadata": {},
   "outputs": [],
   "source": [
    "flightFinal = WNflights04.copy()"
   ]
  },
  {
   "cell_type": "code",
   "execution_count": 60,
   "id": "d98f13bf-7144-4fdf-91e8-86466a40f3b4",
   "metadata": {},
   "outputs": [],
   "source": [
    "flightFinal = flightFinal.merge(test07,on='month')"
   ]
  },
  {
   "cell_type": "code",
   "execution_count": 61,
   "id": "1c3629f7-524f-4b48-8185-ba460ae20bfd",
   "metadata": {},
   "outputs": [
    {
     "data": {
      "text/html": [
       "<div>\n",
       "<style scoped>\n",
       "    .dataframe tbody tr th:only-of-type {\n",
       "        vertical-align: middle;\n",
       "    }\n",
       "\n",
       "    .dataframe tbody tr th {\n",
       "        vertical-align: top;\n",
       "    }\n",
       "\n",
       "    .dataframe thead th {\n",
       "        text-align: right;\n",
       "    }\n",
       "</style>\n",
       "<table border=\"1\" class=\"dataframe\">\n",
       "  <thead>\n",
       "    <tr style=\"text-align: right;\">\n",
       "      <th></th>\n",
       "      <th>mkt_carrier</th>\n",
       "      <th>carrier_delay</th>\n",
       "    </tr>\n",
       "  </thead>\n",
       "  <tbody>\n",
       "    <tr>\n",
       "      <th>0</th>\n",
       "      <td>AS</td>\n",
       "      <td>2.328271</td>\n",
       "    </tr>\n",
       "    <tr>\n",
       "      <th>1</th>\n",
       "      <td>VX</td>\n",
       "      <td>2.348741</td>\n",
       "    </tr>\n",
       "    <tr>\n",
       "      <th>2</th>\n",
       "      <td>DL</td>\n",
       "      <td>2.569758</td>\n",
       "    </tr>\n",
       "    <tr>\n",
       "      <th>3</th>\n",
       "      <td>WN</td>\n",
       "      <td>4.566613</td>\n",
       "    </tr>\n",
       "    <tr>\n",
       "      <th>4</th>\n",
       "      <td>HA</td>\n",
       "      <td>5.447411</td>\n",
       "    </tr>\n",
       "  </tbody>\n",
       "</table>\n",
       "</div>"
      ],
      "text/plain": [
       "  mkt_carrier  carrier_delay\n",
       "0          AS       2.328271\n",
       "1          VX       2.348741\n",
       "2          DL       2.569758\n",
       "3          WN       4.566613\n",
       "4          HA       5.447411"
      ]
     },
     "execution_count": 61,
     "metadata": {},
     "output_type": "execute_result"
    }
   ],
   "source": [
    "test_3.head()"
   ]
  },
  {
   "cell_type": "code",
   "execution_count": 62,
   "id": "54323c2d-b2a6-43c9-a064-66b9b2fadf92",
   "metadata": {},
   "outputs": [],
   "source": [
    "flightFinal = flightFinal.merge(test_3,on='mkt_carrier')"
   ]
  },
  {
   "cell_type": "code",
   "execution_count": 68,
   "id": "8d0deaf7-c601-4e9c-9e31-477efea9ad02",
   "metadata": {},
   "outputs": [],
   "source": [
    "overview = overview.drop(['flight_status','TOTAL_FLIGHTS'], axis = 1)"
   ]
  },
  {
   "cell_type": "code",
   "execution_count": 70,
   "id": "483230db-3743-4099-adee-b2299cb26c8f",
   "metadata": {},
   "outputs": [],
   "source": [
    "flightFinal = flightFinal.merge(overview,on='mkt_carrier')"
   ]
  },
  {
   "cell_type": "code",
   "execution_count": 72,
   "id": "e0878695-52b7-4099-81a9-34fecd0da14d",
   "metadata": {},
   "outputs": [],
   "source": [
    "flightFinal.drop(['flight_status','dep_delay'],axis=1,inplace=True)"
   ]
  },
  {
   "cell_type": "code",
   "execution_count": 76,
   "id": "c216d773-7d31-4eb3-be51-b5597abbea5b",
   "metadata": {},
   "outputs": [],
   "source": [
    "flightFinalTrain = flightFinal.drop(['fl_date','origin_city_name','dest_city_name'],axis=1)"
   ]
  },
  {
   "cell_type": "code",
   "execution_count": 77,
   "id": "0e3d9822-d52b-412b-b73c-c6a6f6e6dcf7",
   "metadata": {},
   "outputs": [],
   "source": [
    "flightFinal.to_csv('../../../data/flightFinal.csv')"
   ]
  },
  {
   "cell_type": "code",
   "execution_count": 78,
   "id": "a87c5996-ed97-4385-b9c2-08da04c86a18",
   "metadata": {},
   "outputs": [],
   "source": [
    "flightFinalTrain.to_csv('../../../data/flightFinalTrain.csv')"
   ]
  }
 ],
 "metadata": {
  "kernelspec": {
   "display_name": "bootCampEnv",
   "language": "python",
   "name": "bootcampenv"
  },
  "language_info": {
   "codemirror_mode": {
    "name": "ipython",
    "version": 3
   },
   "file_extension": ".py",
   "mimetype": "text/x-python",
   "name": "python",
   "nbconvert_exporter": "python",
   "pygments_lexer": "ipython3",
   "version": "3.6.12"
  }
 },
 "nbformat": 4,
 "nbformat_minor": 5
}
