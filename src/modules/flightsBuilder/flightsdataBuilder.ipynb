{
 "cells": [
  {
   "cell_type": "code",
   "execution_count": 1,
   "id": "743c3a49",
   "metadata": {},
   "outputs": [],
   "source": [
    "import pandas as pd\n",
    "import numpy as np\n",
    "import psycopg2\n",
    "import pandas.io.sql as sqlio"
   ]
  },
  {
   "cell_type": "code",
   "execution_count": 2,
   "id": "c3f90ebc-7195-44d6-a739-5ebbaabb5660",
   "metadata": {},
   "outputs": [],
   "source": [
    "import matplotlib.pyplot as plt\n",
    "import matplotlib as mpl\n",
    "%matplotlib inline\n",
    "import seaborn as sns\n",
    "sns.set_style('darkgrid')\n",
    "pd.set_option('display.max_columns', None)\n",
    "import datetime, warnings, scipy\n",
    "warnings.filterwarnings(\"ignore\")"
   ]
  },
  {
   "cell_type": "markdown",
   "id": "83143070",
   "metadata": {},
   "source": [
    "## load Csv data"
   ]
  },
  {
   "cell_type": "code",
   "execution_count": 3,
   "id": "a2b99e43",
   "metadata": {},
   "outputs": [],
   "source": [
    "#import WNinitCsv as csv\n",
    "#con = psycopg2.connect(database=\"mid_term_project\", user=\"lhl_student\", password=\"lhl_student\", host=\"mid-term-project.ca2jkepgjpne.us-east-2.rds.amazonaws.com\", port=\"5432\")\n",
    "#cur = con.cursor()\n",
    "#csv.WNinitCsv()"
   ]
  },
  {
   "cell_type": "markdown",
   "id": "6dc73ff9",
   "metadata": {},
   "source": [
    "## Clean Data"
   ]
  },
  {
   "cell_type": "code",
   "execution_count": 4,
   "id": "a2ed0ae1",
   "metadata": {
    "tags": []
   },
   "outputs": [],
   "source": [
    "WNflight = pd.read_csv('../../../data/flights/flights_by_top_origin.csv')\n"
   ]
  },
  {
   "cell_type": "code",
   "execution_count": null,
   "id": "8496b4f3-0a6c-4f81-a8c1-56d21bd939ef",
   "metadata": {},
   "outputs": [],
   "source": []
  },
  {
   "cell_type": "code",
   "execution_count": 5,
   "id": "a9836cc9-1b08-48b8-ae5a-db3b8de8f969",
   "metadata": {},
   "outputs": [],
   "source": [
    "delayed = WNflight.loc[WNflight['arr_delay'] >= 15]\n",
    "early = WNflight.loc[WNflight['arr_delay'] <= 0]"
   ]
  },
  {
   "cell_type": "code",
   "execution_count": 6,
   "id": "1bb4561b-8cfb-4b23-98c4-63838d373e49",
   "metadata": {},
   "outputs": [
    {
     "data": {
      "text/plain": [
       "origin_city_name       mkt_unique_carrier\n",
       "Atlanta, GA            DL                    429337\n",
       "Dallas/Fort Worth, TX  AA                    282665\n",
       "Charlotte, NC          AA                    262901\n",
       "Chicago, IL            UA                    233433\n",
       "Houston, TX            UA                    190200\n",
       "                                              ...  \n",
       "Charlotte, NC          NK                       344\n",
       "Denver, CO             G4                       179\n",
       "Chicago, IL            VX                       126\n",
       "Denver, CO             VX                       110\n",
       "Houston, TX            B6                        64\n",
       "Length: 86, dtype: int64"
      ]
     },
     "execution_count": 6,
     "metadata": {},
     "output_type": "execute_result"
    }
   ],
   "source": [
    "early.value_counts(['origin_city_name', 'mkt_unique_carrier'])"
   ]
  },
  {
   "cell_type": "code",
   "execution_count": 7,
   "id": "73b4921e-fc31-4634-b5ea-ac4a9f981666",
   "metadata": {},
   "outputs": [
    {
     "data": {
      "text/plain": [
       "origin_city_name       mkt_unique_carrier\n",
       "Dallas/Fort Worth, TX  AA                    116895\n",
       "Chicago, IL            UA                     94849\n",
       "Charlotte, NC          AA                     93712\n",
       "Atlanta, GA            DL                     92059\n",
       "Chicago, IL            AA                     79998\n",
       "                                              ...  \n",
       "Denver, CO             G4                       121\n",
       "Phoenix, AZ            HA                       116\n",
       "Chicago, IL            VX                        47\n",
       "Houston, TX            B6                        44\n",
       "Denver, CO             VX                        41\n",
       "Length: 86, dtype: int64"
      ]
     },
     "execution_count": 7,
     "metadata": {},
     "output_type": "execute_result"
    }
   ],
   "source": [
    "delayed.value_counts(['origin_city_name', 'mkt_unique_carrier'])"
   ]
  },
  {
   "cell_type": "code",
   "execution_count": 8,
   "id": "199aa4d8",
   "metadata": {},
   "outputs": [],
   "source": [
    "#We don't need them since same as mkt_carrier\n",
    "WNflight.drop(['mkt_carrier_fl_num','op_unique_carrier','tail_num','branded_code_share'],axis=1,inplace=True)"
   ]
  },
  {
   "cell_type": "code",
   "execution_count": 9,
   "id": "881526b3",
   "metadata": {},
   "outputs": [],
   "source": [
    "#IN names\n",
    "WNflights02 = WNflight.drop(['origin','dest'],axis=1)"
   ]
  },
  {
   "cell_type": "code",
   "execution_count": 10,
   "id": "b0a12f90",
   "metadata": {},
   "outputs": [],
   "source": [
    "#do not want cancelled flights\n",
    "WNflights02 = WNflights02[WNflights02['cancelled'] == 0.0]"
   ]
  },
  {
   "cell_type": "code",
   "execution_count": 11,
   "id": "b35c494f-cd2b-4339-8244-0d850f3bde7f",
   "metadata": {},
   "outputs": [],
   "source": [
    "WNflights03 = WNflights02.copy()"
   ]
  },
  {
   "cell_type": "code",
   "execution_count": 12,
   "id": "4072935f",
   "metadata": {},
   "outputs": [],
   "source": [
    "#Cancelled useless for training\n",
    "WNflights03.drop(['cancelled'],axis=1,inplace=True)"
   ]
  },
  {
   "cell_type": "code",
   "execution_count": 13,
   "id": "1176fde0",
   "metadata": {},
   "outputs": [
    {
     "data": {
      "text/html": [
       "<div>\n",
       "<style scoped>\n",
       "    .dataframe tbody tr th:only-of-type {\n",
       "        vertical-align: middle;\n",
       "    }\n",
       "\n",
       "    .dataframe tbody tr th {\n",
       "        vertical-align: top;\n",
       "    }\n",
       "\n",
       "    .dataframe thead th {\n",
       "        text-align: right;\n",
       "    }\n",
       "</style>\n",
       "<table border=\"1\" class=\"dataframe\">\n",
       "  <thead>\n",
       "    <tr style=\"text-align: right;\">\n",
       "      <th></th>\n",
       "      <th>fl_date</th>\n",
       "      <th>mkt_unique_carrier</th>\n",
       "      <th>mkt_carrier</th>\n",
       "      <th>op_carrier_fl_num</th>\n",
       "      <th>origin_airport_id</th>\n",
       "      <th>origin_city_name</th>\n",
       "      <th>dest_airport_id</th>\n",
       "      <th>dest_city_name</th>\n",
       "      <th>crs_dep_time</th>\n",
       "      <th>dep_time</th>\n",
       "      <th>dep_delay</th>\n",
       "      <th>taxi_out</th>\n",
       "      <th>wheels_off</th>\n",
       "      <th>wheels_on</th>\n",
       "      <th>taxi_in</th>\n",
       "      <th>crs_arr_time</th>\n",
       "      <th>arr_time</th>\n",
       "      <th>arr_delay</th>\n",
       "      <th>cancellation_code</th>\n",
       "      <th>diverted</th>\n",
       "      <th>dup</th>\n",
       "      <th>crs_elapsed_time</th>\n",
       "      <th>actual_elapsed_time</th>\n",
       "      <th>air_time</th>\n",
       "      <th>flights</th>\n",
       "      <th>distance</th>\n",
       "      <th>carrier_delay</th>\n",
       "      <th>weather_delay</th>\n",
       "      <th>nas_delay</th>\n",
       "      <th>security_delay</th>\n",
       "      <th>late_aircraft_delay</th>\n",
       "      <th>first_dep_time</th>\n",
       "      <th>total_add_gtime</th>\n",
       "      <th>longest_add_gtime</th>\n",
       "      <th>no_name</th>\n",
       "    </tr>\n",
       "  </thead>\n",
       "  <tbody>\n",
       "  </tbody>\n",
       "</table>\n",
       "</div>"
      ],
      "text/plain": [
       "Empty DataFrame\n",
       "Columns: [fl_date, mkt_unique_carrier, mkt_carrier, op_carrier_fl_num, origin_airport_id, origin_city_name, dest_airport_id, dest_city_name, crs_dep_time, dep_time, dep_delay, taxi_out, wheels_off, wheels_on, taxi_in, crs_arr_time, arr_time, arr_delay, cancellation_code, diverted, dup, crs_elapsed_time, actual_elapsed_time, air_time, flights, distance, carrier_delay, weather_delay, nas_delay, security_delay, late_aircraft_delay, first_dep_time, total_add_gtime, longest_add_gtime, no_name]\n",
       "Index: []"
      ]
     },
     "execution_count": 13,
     "metadata": {},
     "output_type": "execute_result"
    }
   ],
   "source": [
    "WNflights03[WNflights03['dup'] == \"Y\"]"
   ]
  },
  {
   "cell_type": "code",
   "execution_count": 14,
   "id": "13e9ee0a",
   "metadata": {},
   "outputs": [],
   "source": [
    "## dup has no Y value\n",
    "WNflights03.drop(['dup'],axis =1, inplace=True)"
   ]
  },
  {
   "cell_type": "code",
   "execution_count": 15,
   "id": "5d593ef2",
   "metadata": {},
   "outputs": [],
   "source": [
    "WNflights03 = WNflights03[WNflights03['arr_delay'].notnull()]"
   ]
  },
  {
   "cell_type": "code",
   "execution_count": 16,
   "id": "18a28ed8-161d-4090-b766-e3da62acf2b9",
   "metadata": {},
   "outputs": [],
   "source": [
    "## all mostly empty or repeated data\n",
    "WNflights03.drop(['no_name','longest_add_gtime','total_add_gtime','first_dep_time'],axis=1, inplace=True)"
   ]
  },
  {
   "cell_type": "code",
   "execution_count": 17,
   "id": "da7b4cfa-ad21-42ea-a13e-84ae571c90f1",
   "metadata": {},
   "outputs": [],
   "source": [
    "## only 1 for flights\n",
    "WNflights03.drop(['flights'],axis=1, inplace=True)"
   ]
  },
  {
   "cell_type": "code",
   "execution_count": 18,
   "id": "1616beb5-4d75-4ada-bc13-0e15cbb64792",
   "metadata": {},
   "outputs": [],
   "source": [
    "#repeated info\n",
    "WNflights03.drop(['dep_time','arr_time'],axis=1, inplace=True)"
   ]
  },
  {
   "cell_type": "code",
   "execution_count": 19,
   "id": "a2009f15-2172-4405-a011-3b6b7fa06daa",
   "metadata": {},
   "outputs": [],
   "source": [
    "## all the same\n",
    "WNflights03.drop(['diverted'],axis=1, inplace=True)"
   ]
  },
  {
   "cell_type": "code",
   "execution_count": 20,
   "id": "644d82c4-b3df-4c9a-b76c-6e374bb19dd6",
   "metadata": {},
   "outputs": [],
   "source": [
    "#useless\n",
    "WNflights03.drop(['cancellation_code'],axis=1, inplace=True)"
   ]
  },
  {
   "cell_type": "code",
   "execution_count": 21,
   "id": "5276b2b9-04d5-445c-a93a-98f4496726b8",
   "metadata": {
    "tags": []
   },
   "outputs": [
    {
     "data": {
      "text/html": [
       "<div>\n",
       "<style scoped>\n",
       "    .dataframe tbody tr th:only-of-type {\n",
       "        vertical-align: middle;\n",
       "    }\n",
       "\n",
       "    .dataframe tbody tr th {\n",
       "        vertical-align: top;\n",
       "    }\n",
       "\n",
       "    .dataframe thead th {\n",
       "        text-align: right;\n",
       "    }\n",
       "</style>\n",
       "<table border=\"1\" class=\"dataframe\">\n",
       "  <thead>\n",
       "    <tr style=\"text-align: right;\">\n",
       "      <th></th>\n",
       "      <th>fl_date</th>\n",
       "      <th>mkt_unique_carrier</th>\n",
       "      <th>mkt_carrier</th>\n",
       "      <th>op_carrier_fl_num</th>\n",
       "      <th>origin_airport_id</th>\n",
       "      <th>origin_city_name</th>\n",
       "      <th>dest_airport_id</th>\n",
       "      <th>dest_city_name</th>\n",
       "      <th>crs_dep_time</th>\n",
       "      <th>dep_delay</th>\n",
       "      <th>taxi_out</th>\n",
       "      <th>wheels_off</th>\n",
       "      <th>wheels_on</th>\n",
       "      <th>taxi_in</th>\n",
       "      <th>crs_arr_time</th>\n",
       "      <th>arr_delay</th>\n",
       "      <th>crs_elapsed_time</th>\n",
       "      <th>actual_elapsed_time</th>\n",
       "      <th>air_time</th>\n",
       "      <th>distance</th>\n",
       "      <th>carrier_delay</th>\n",
       "      <th>weather_delay</th>\n",
       "      <th>nas_delay</th>\n",
       "      <th>security_delay</th>\n",
       "      <th>late_aircraft_delay</th>\n",
       "    </tr>\n",
       "  </thead>\n",
       "  <tbody>\n",
       "    <tr>\n",
       "      <th>4448406</th>\n",
       "      <td>2018-01-01</td>\n",
       "      <td>UA</td>\n",
       "      <td>UA</td>\n",
       "      <td>5428</td>\n",
       "      <td>13930</td>\n",
       "      <td>Chicago, IL</td>\n",
       "      <td>10693</td>\n",
       "      <td>Nashville, TN</td>\n",
       "      <td>1928</td>\n",
       "      <td>25.0</td>\n",
       "      <td>16.0</td>\n",
       "      <td>2009.0</td>\n",
       "      <td>2109.0</td>\n",
       "      <td>6.0</td>\n",
       "      <td>2058</td>\n",
       "      <td>17.0</td>\n",
       "      <td>90.0</td>\n",
       "      <td>82.0</td>\n",
       "      <td>60.0</td>\n",
       "      <td>409</td>\n",
       "      <td>0.0</td>\n",
       "      <td>5.0</td>\n",
       "      <td>0.0</td>\n",
       "      <td>0.0</td>\n",
       "      <td>12.0</td>\n",
       "    </tr>\n",
       "    <tr>\n",
       "      <th>4447707</th>\n",
       "      <td>2018-01-01</td>\n",
       "      <td>AA</td>\n",
       "      <td>AA</td>\n",
       "      <td>3510</td>\n",
       "      <td>11298</td>\n",
       "      <td>Dallas/Fort Worth, TX</td>\n",
       "      <td>13342</td>\n",
       "      <td>Milwaukee, WI</td>\n",
       "      <td>2030</td>\n",
       "      <td>7.0</td>\n",
       "      <td>18.0</td>\n",
       "      <td>2055.0</td>\n",
       "      <td>2247.0</td>\n",
       "      <td>7.0</td>\n",
       "      <td>2249</td>\n",
       "      <td>5.0</td>\n",
       "      <td>139.0</td>\n",
       "      <td>137.0</td>\n",
       "      <td>112.0</td>\n",
       "      <td>853</td>\n",
       "      <td>NaN</td>\n",
       "      <td>NaN</td>\n",
       "      <td>NaN</td>\n",
       "      <td>NaN</td>\n",
       "      <td>NaN</td>\n",
       "    </tr>\n",
       "    <tr>\n",
       "      <th>4447706</th>\n",
       "      <td>2018-01-01</td>\n",
       "      <td>AA</td>\n",
       "      <td>AA</td>\n",
       "      <td>3509</td>\n",
       "      <td>13930</td>\n",
       "      <td>Chicago, IL</td>\n",
       "      <td>14730</td>\n",
       "      <td>Louisville, KY</td>\n",
       "      <td>1825</td>\n",
       "      <td>0.0</td>\n",
       "      <td>19.0</td>\n",
       "      <td>1844.0</td>\n",
       "      <td>2032.0</td>\n",
       "      <td>6.0</td>\n",
       "      <td>2045</td>\n",
       "      <td>-7.0</td>\n",
       "      <td>80.0</td>\n",
       "      <td>73.0</td>\n",
       "      <td>48.0</td>\n",
       "      <td>286</td>\n",
       "      <td>NaN</td>\n",
       "      <td>NaN</td>\n",
       "      <td>NaN</td>\n",
       "      <td>NaN</td>\n",
       "      <td>NaN</td>\n",
       "    </tr>\n",
       "    <tr>\n",
       "      <th>4447705</th>\n",
       "      <td>2018-01-01</td>\n",
       "      <td>AA</td>\n",
       "      <td>AA</td>\n",
       "      <td>3507</td>\n",
       "      <td>11298</td>\n",
       "      <td>Dallas/Fort Worth, TX</td>\n",
       "      <td>15624</td>\n",
       "      <td>Valparaiso, FL</td>\n",
       "      <td>1445</td>\n",
       "      <td>26.0</td>\n",
       "      <td>30.0</td>\n",
       "      <td>1541.0</td>\n",
       "      <td>1703.0</td>\n",
       "      <td>8.0</td>\n",
       "      <td>1638</td>\n",
       "      <td>33.0</td>\n",
       "      <td>113.0</td>\n",
       "      <td>120.0</td>\n",
       "      <td>82.0</td>\n",
       "      <td>641</td>\n",
       "      <td>26.0</td>\n",
       "      <td>0.0</td>\n",
       "      <td>7.0</td>\n",
       "      <td>0.0</td>\n",
       "      <td>0.0</td>\n",
       "    </tr>\n",
       "    <tr>\n",
       "      <th>4447704</th>\n",
       "      <td>2018-01-01</td>\n",
       "      <td>AA</td>\n",
       "      <td>AA</td>\n",
       "      <td>3504</td>\n",
       "      <td>11298</td>\n",
       "      <td>Dallas/Fort Worth, TX</td>\n",
       "      <td>10185</td>\n",
       "      <td>Alexandria, LA</td>\n",
       "      <td>845</td>\n",
       "      <td>20.0</td>\n",
       "      <td>24.0</td>\n",
       "      <td>929.0</td>\n",
       "      <td>1013.0</td>\n",
       "      <td>4.0</td>\n",
       "      <td>955</td>\n",
       "      <td>22.0</td>\n",
       "      <td>70.0</td>\n",
       "      <td>72.0</td>\n",
       "      <td>44.0</td>\n",
       "      <td>285</td>\n",
       "      <td>4.0</td>\n",
       "      <td>0.0</td>\n",
       "      <td>2.0</td>\n",
       "      <td>0.0</td>\n",
       "      <td>16.0</td>\n",
       "    </tr>\n",
       "    <tr>\n",
       "      <th>...</th>\n",
       "      <td>...</td>\n",
       "      <td>...</td>\n",
       "      <td>...</td>\n",
       "      <td>...</td>\n",
       "      <td>...</td>\n",
       "      <td>...</td>\n",
       "      <td>...</td>\n",
       "      <td>...</td>\n",
       "      <td>...</td>\n",
       "      <td>...</td>\n",
       "      <td>...</td>\n",
       "      <td>...</td>\n",
       "      <td>...</td>\n",
       "      <td>...</td>\n",
       "      <td>...</td>\n",
       "      <td>...</td>\n",
       "      <td>...</td>\n",
       "      <td>...</td>\n",
       "      <td>...</td>\n",
       "      <td>...</td>\n",
       "      <td>...</td>\n",
       "      <td>...</td>\n",
       "      <td>...</td>\n",
       "      <td>...</td>\n",
       "      <td>...</td>\n",
       "    </tr>\n",
       "    <tr>\n",
       "      <th>2077755</th>\n",
       "      <td>2019-12-31</td>\n",
       "      <td>NK</td>\n",
       "      <td>NK</td>\n",
       "      <td>1168</td>\n",
       "      <td>14107</td>\n",
       "      <td>Phoenix, AZ</td>\n",
       "      <td>13930</td>\n",
       "      <td>Chicago, IL</td>\n",
       "      <td>1920</td>\n",
       "      <td>-8.0</td>\n",
       "      <td>9.0</td>\n",
       "      <td>1921.0</td>\n",
       "      <td>2313.0</td>\n",
       "      <td>5.0</td>\n",
       "      <td>2342</td>\n",
       "      <td>-24.0</td>\n",
       "      <td>202.0</td>\n",
       "      <td>186.0</td>\n",
       "      <td>172.0</td>\n",
       "      <td>1440</td>\n",
       "      <td>NaN</td>\n",
       "      <td>NaN</td>\n",
       "      <td>NaN</td>\n",
       "      <td>NaN</td>\n",
       "      <td>NaN</td>\n",
       "    </tr>\n",
       "    <tr>\n",
       "      <th>2077754</th>\n",
       "      <td>2019-12-31</td>\n",
       "      <td>NK</td>\n",
       "      <td>NK</td>\n",
       "      <td>1167</td>\n",
       "      <td>13930</td>\n",
       "      <td>Chicago, IL</td>\n",
       "      <td>14107</td>\n",
       "      <td>Phoenix, AZ</td>\n",
       "      <td>1525</td>\n",
       "      <td>-4.0</td>\n",
       "      <td>12.0</td>\n",
       "      <td>1533.0</td>\n",
       "      <td>1750.0</td>\n",
       "      <td>4.0</td>\n",
       "      <td>1826</td>\n",
       "      <td>-32.0</td>\n",
       "      <td>241.0</td>\n",
       "      <td>213.0</td>\n",
       "      <td>197.0</td>\n",
       "      <td>1440</td>\n",
       "      <td>NaN</td>\n",
       "      <td>NaN</td>\n",
       "      <td>NaN</td>\n",
       "      <td>NaN</td>\n",
       "      <td>NaN</td>\n",
       "    </tr>\n",
       "    <tr>\n",
       "      <th>2077753</th>\n",
       "      <td>2019-12-31</td>\n",
       "      <td>NK</td>\n",
       "      <td>NK</td>\n",
       "      <td>1165</td>\n",
       "      <td>10397</td>\n",
       "      <td>Atlanta, GA</td>\n",
       "      <td>11618</td>\n",
       "      <td>Newark, NJ</td>\n",
       "      <td>1702</td>\n",
       "      <td>21.0</td>\n",
       "      <td>11.0</td>\n",
       "      <td>1734.0</td>\n",
       "      <td>1923.0</td>\n",
       "      <td>7.0</td>\n",
       "      <td>1920</td>\n",
       "      <td>10.0</td>\n",
       "      <td>138.0</td>\n",
       "      <td>127.0</td>\n",
       "      <td>109.0</td>\n",
       "      <td>746</td>\n",
       "      <td>NaN</td>\n",
       "      <td>NaN</td>\n",
       "      <td>NaN</td>\n",
       "      <td>NaN</td>\n",
       "      <td>NaN</td>\n",
       "    </tr>\n",
       "    <tr>\n",
       "      <th>2077727</th>\n",
       "      <td>2019-12-31</td>\n",
       "      <td>AA</td>\n",
       "      <td>AA</td>\n",
       "      <td>4235</td>\n",
       "      <td>11298</td>\n",
       "      <td>Dallas/Fort Worth, TX</td>\n",
       "      <td>12511</td>\n",
       "      <td>Joplin, MO</td>\n",
       "      <td>1429</td>\n",
       "      <td>-4.0</td>\n",
       "      <td>13.0</td>\n",
       "      <td>1438.0</td>\n",
       "      <td>1524.0</td>\n",
       "      <td>16.0</td>\n",
       "      <td>1550</td>\n",
       "      <td>-10.0</td>\n",
       "      <td>81.0</td>\n",
       "      <td>75.0</td>\n",
       "      <td>46.0</td>\n",
       "      <td>327</td>\n",
       "      <td>NaN</td>\n",
       "      <td>NaN</td>\n",
       "      <td>NaN</td>\n",
       "      <td>NaN</td>\n",
       "      <td>NaN</td>\n",
       "    </tr>\n",
       "    <tr>\n",
       "      <th>2077930</th>\n",
       "      <td>2019-12-31</td>\n",
       "      <td>AA</td>\n",
       "      <td>AA</td>\n",
       "      <td>1162</td>\n",
       "      <td>13930</td>\n",
       "      <td>Chicago, IL</td>\n",
       "      <td>15376</td>\n",
       "      <td>Tucson, AZ</td>\n",
       "      <td>945</td>\n",
       "      <td>63.0</td>\n",
       "      <td>23.0</td>\n",
       "      <td>1111.0</td>\n",
       "      <td>1335.0</td>\n",
       "      <td>6.0</td>\n",
       "      <td>1245</td>\n",
       "      <td>56.0</td>\n",
       "      <td>240.0</td>\n",
       "      <td>233.0</td>\n",
       "      <td>204.0</td>\n",
       "      <td>1437</td>\n",
       "      <td>0.0</td>\n",
       "      <td>5.0</td>\n",
       "      <td>0.0</td>\n",
       "      <td>0.0</td>\n",
       "      <td>51.0</td>\n",
       "    </tr>\n",
       "  </tbody>\n",
       "</table>\n",
       "<p>5071774 rows × 25 columns</p>\n",
       "</div>"
      ],
      "text/plain": [
       "            fl_date mkt_unique_carrier mkt_carrier  op_carrier_fl_num  \\\n",
       "4448406  2018-01-01                 UA          UA               5428   \n",
       "4447707  2018-01-01                 AA          AA               3510   \n",
       "4447706  2018-01-01                 AA          AA               3509   \n",
       "4447705  2018-01-01                 AA          AA               3507   \n",
       "4447704  2018-01-01                 AA          AA               3504   \n",
       "...             ...                ...         ...                ...   \n",
       "2077755  2019-12-31                 NK          NK               1168   \n",
       "2077754  2019-12-31                 NK          NK               1167   \n",
       "2077753  2019-12-31                 NK          NK               1165   \n",
       "2077727  2019-12-31                 AA          AA               4235   \n",
       "2077930  2019-12-31                 AA          AA               1162   \n",
       "\n",
       "         origin_airport_id       origin_city_name  dest_airport_id  \\\n",
       "4448406              13930            Chicago, IL            10693   \n",
       "4447707              11298  Dallas/Fort Worth, TX            13342   \n",
       "4447706              13930            Chicago, IL            14730   \n",
       "4447705              11298  Dallas/Fort Worth, TX            15624   \n",
       "4447704              11298  Dallas/Fort Worth, TX            10185   \n",
       "...                    ...                    ...              ...   \n",
       "2077755              14107            Phoenix, AZ            13930   \n",
       "2077754              13930            Chicago, IL            14107   \n",
       "2077753              10397            Atlanta, GA            11618   \n",
       "2077727              11298  Dallas/Fort Worth, TX            12511   \n",
       "2077930              13930            Chicago, IL            15376   \n",
       "\n",
       "         dest_city_name  crs_dep_time  dep_delay  taxi_out  wheels_off  \\\n",
       "4448406   Nashville, TN          1928       25.0      16.0      2009.0   \n",
       "4447707   Milwaukee, WI          2030        7.0      18.0      2055.0   \n",
       "4447706  Louisville, KY          1825        0.0      19.0      1844.0   \n",
       "4447705  Valparaiso, FL          1445       26.0      30.0      1541.0   \n",
       "4447704  Alexandria, LA           845       20.0      24.0       929.0   \n",
       "...                 ...           ...        ...       ...         ...   \n",
       "2077755     Chicago, IL          1920       -8.0       9.0      1921.0   \n",
       "2077754     Phoenix, AZ          1525       -4.0      12.0      1533.0   \n",
       "2077753      Newark, NJ          1702       21.0      11.0      1734.0   \n",
       "2077727      Joplin, MO          1429       -4.0      13.0      1438.0   \n",
       "2077930      Tucson, AZ           945       63.0      23.0      1111.0   \n",
       "\n",
       "         wheels_on  taxi_in  crs_arr_time  arr_delay  crs_elapsed_time  \\\n",
       "4448406     2109.0      6.0          2058       17.0              90.0   \n",
       "4447707     2247.0      7.0          2249        5.0             139.0   \n",
       "4447706     2032.0      6.0          2045       -7.0              80.0   \n",
       "4447705     1703.0      8.0          1638       33.0             113.0   \n",
       "4447704     1013.0      4.0           955       22.0              70.0   \n",
       "...            ...      ...           ...        ...               ...   \n",
       "2077755     2313.0      5.0          2342      -24.0             202.0   \n",
       "2077754     1750.0      4.0          1826      -32.0             241.0   \n",
       "2077753     1923.0      7.0          1920       10.0             138.0   \n",
       "2077727     1524.0     16.0          1550      -10.0              81.0   \n",
       "2077930     1335.0      6.0          1245       56.0             240.0   \n",
       "\n",
       "         actual_elapsed_time  air_time  distance  carrier_delay  \\\n",
       "4448406                 82.0      60.0       409            0.0   \n",
       "4447707                137.0     112.0       853            NaN   \n",
       "4447706                 73.0      48.0       286            NaN   \n",
       "4447705                120.0      82.0       641           26.0   \n",
       "4447704                 72.0      44.0       285            4.0   \n",
       "...                      ...       ...       ...            ...   \n",
       "2077755                186.0     172.0      1440            NaN   \n",
       "2077754                213.0     197.0      1440            NaN   \n",
       "2077753                127.0     109.0       746            NaN   \n",
       "2077727                 75.0      46.0       327            NaN   \n",
       "2077930                233.0     204.0      1437            0.0   \n",
       "\n",
       "         weather_delay  nas_delay  security_delay  late_aircraft_delay  \n",
       "4448406            5.0        0.0             0.0                 12.0  \n",
       "4447707            NaN        NaN             NaN                  NaN  \n",
       "4447706            NaN        NaN             NaN                  NaN  \n",
       "4447705            0.0        7.0             0.0                  0.0  \n",
       "4447704            0.0        2.0             0.0                 16.0  \n",
       "...                ...        ...             ...                  ...  \n",
       "2077755            NaN        NaN             NaN                  NaN  \n",
       "2077754            NaN        NaN             NaN                  NaN  \n",
       "2077753            NaN        NaN             NaN                  NaN  \n",
       "2077727            NaN        NaN             NaN                  NaN  \n",
       "2077930            5.0        0.0             0.0                 51.0  \n",
       "\n",
       "[5071774 rows x 25 columns]"
      ]
     },
     "execution_count": 21,
     "metadata": {},
     "output_type": "execute_result"
    }
   ],
   "source": [
    "WNflights03.sort_values(['fl_date'])\n"
   ]
  },
  {
   "cell_type": "code",
   "execution_count": 22,
   "id": "08acb5eb-5281-4097-ac20-0e3ba888b8a0",
   "metadata": {},
   "outputs": [
    {
     "data": {
      "text/plain": [
       "mkt_carrier\n",
       "AA    35419\n",
       "DL     1704\n",
       "UA     1102\n",
       "WN      481\n",
       "B6      223\n",
       "F9      192\n",
       "dtype: int64"
      ]
     },
     "execution_count": 22,
     "metadata": {},
     "output_type": "execute_result"
    }
   ],
   "source": [
    "# Convert the date to datetime64\n",
    "WNflights03['fl_date'] = pd.to_datetime(WNflights03['fl_date'], format='%Y-%m-%d')\n",
    "  \n",
    "WNflights03.loc[(WNflights03['fl_date'].dt.month == 1) & (WNflights03['origin_airport_id'] == 11057)].value_counts('mkt_carrier')"
   ]
  },
  {
   "cell_type": "code",
   "execution_count": 23,
   "id": "525492c5-0168-4498-a41d-146889a01087",
   "metadata": {},
   "outputs": [],
   "source": [
    "model_df = WNflights03.copy()\n",
    "model_df = model_df.loc[model_df['mkt_unique_carrier'].isin(['WN', 'AA', 'UA', 'DL', 'B6', 'NK', 'G4', 'AS', 'F9', 'HA', 'VX'])]\n",
    "model_df['year'] = model_df['fl_date'].dt.year\n",
    "model_df['month'] = model_df['fl_date'].dt.month\n",
    "model_df = model_df[['fl_date',  \n",
    "       'origin_airport_id', 'dest_airport_id','mkt_unique_carrier', 'month', 'year',\n",
    "       'taxi_out', 'wheels_off',\n",
    "       'wheels_on', 'taxi_in','distance', 'carrier_delay',\n",
    "       'weather_delay', 'nas_delay', 'security_delay', 'late_aircraft_delay','arr_delay']]"
   ]
  },
  {
   "cell_type": "code",
   "execution_count": null,
   "id": "1bd1949a-4891-4a1b-9476-042afe2146d6",
   "metadata": {},
   "outputs": [],
   "source": []
  },
  {
   "cell_type": "code",
   "execution_count": 24,
   "id": "b969fad1-ad8f-4c17-a153-c33f08efef8f",
   "metadata": {},
   "outputs": [
    {
     "data": {
      "text/html": [
       "<div>\n",
       "<style scoped>\n",
       "    .dataframe tbody tr th:only-of-type {\n",
       "        vertical-align: middle;\n",
       "    }\n",
       "\n",
       "    .dataframe tbody tr th {\n",
       "        vertical-align: top;\n",
       "    }\n",
       "\n",
       "    .dataframe thead th {\n",
       "        text-align: right;\n",
       "    }\n",
       "</style>\n",
       "<table border=\"1\" class=\"dataframe\">\n",
       "  <thead>\n",
       "    <tr style=\"text-align: right;\">\n",
       "      <th></th>\n",
       "      <th>fl_date</th>\n",
       "      <th>origin_airport_id</th>\n",
       "      <th>dest_airport_id</th>\n",
       "      <th>mkt_unique_carrier</th>\n",
       "      <th>month</th>\n",
       "      <th>year</th>\n",
       "      <th>taxi_out</th>\n",
       "      <th>wheels_off</th>\n",
       "      <th>wheels_on</th>\n",
       "      <th>taxi_in</th>\n",
       "      <th>distance</th>\n",
       "      <th>carrier_delay</th>\n",
       "      <th>weather_delay</th>\n",
       "      <th>nas_delay</th>\n",
       "      <th>security_delay</th>\n",
       "      <th>late_aircraft_delay</th>\n",
       "      <th>arr_delay</th>\n",
       "    </tr>\n",
       "  </thead>\n",
       "  <tbody>\n",
       "    <tr>\n",
       "      <th>4449171</th>\n",
       "      <td>2018-01-01</td>\n",
       "      <td>10397</td>\n",
       "      <td>10423</td>\n",
       "      <td>DL</td>\n",
       "      <td>1</td>\n",
       "      <td>2018</td>\n",
       "      <td>13.0</td>\n",
       "      <td>1227.0</td>\n",
       "      <td>1335.0</td>\n",
       "      <td>4.0</td>\n",
       "      <td>813</td>\n",
       "      <td>NaN</td>\n",
       "      <td>NaN</td>\n",
       "      <td>NaN</td>\n",
       "      <td>NaN</td>\n",
       "      <td>NaN</td>\n",
       "      <td>-11.0</td>\n",
       "    </tr>\n",
       "    <tr>\n",
       "      <th>4449276</th>\n",
       "      <td>2018-01-01</td>\n",
       "      <td>10397</td>\n",
       "      <td>10423</td>\n",
       "      <td>DL</td>\n",
       "      <td>1</td>\n",
       "      <td>2018</td>\n",
       "      <td>25.0</td>\n",
       "      <td>1647.0</td>\n",
       "      <td>1747.0</td>\n",
       "      <td>7.0</td>\n",
       "      <td>813</td>\n",
       "      <td>NaN</td>\n",
       "      <td>NaN</td>\n",
       "      <td>NaN</td>\n",
       "      <td>NaN</td>\n",
       "      <td>NaN</td>\n",
       "      <td>-1.0</td>\n",
       "    </tr>\n",
       "    <tr>\n",
       "      <th>4449304</th>\n",
       "      <td>2018-01-01</td>\n",
       "      <td>10397</td>\n",
       "      <td>10423</td>\n",
       "      <td>DL</td>\n",
       "      <td>1</td>\n",
       "      <td>2018</td>\n",
       "      <td>12.0</td>\n",
       "      <td>1937.0</td>\n",
       "      <td>2041.0</td>\n",
       "      <td>3.0</td>\n",
       "      <td>813</td>\n",
       "      <td>NaN</td>\n",
       "      <td>NaN</td>\n",
       "      <td>NaN</td>\n",
       "      <td>NaN</td>\n",
       "      <td>NaN</td>\n",
       "      <td>-23.0</td>\n",
       "    </tr>\n",
       "    <tr>\n",
       "      <th>4449490</th>\n",
       "      <td>2018-01-01</td>\n",
       "      <td>10397</td>\n",
       "      <td>10423</td>\n",
       "      <td>DL</td>\n",
       "      <td>1</td>\n",
       "      <td>2018</td>\n",
       "      <td>18.0</td>\n",
       "      <td>2223.0</td>\n",
       "      <td>2320.0</td>\n",
       "      <td>14.0</td>\n",
       "      <td>813</td>\n",
       "      <td>NaN</td>\n",
       "      <td>NaN</td>\n",
       "      <td>NaN</td>\n",
       "      <td>NaN</td>\n",
       "      <td>NaN</td>\n",
       "      <td>2.0</td>\n",
       "    </tr>\n",
       "    <tr>\n",
       "      <th>4449494</th>\n",
       "      <td>2018-01-01</td>\n",
       "      <td>10397</td>\n",
       "      <td>10423</td>\n",
       "      <td>DL</td>\n",
       "      <td>1</td>\n",
       "      <td>2018</td>\n",
       "      <td>14.0</td>\n",
       "      <td>853.0</td>\n",
       "      <td>959.0</td>\n",
       "      <td>4.0</td>\n",
       "      <td>813</td>\n",
       "      <td>NaN</td>\n",
       "      <td>NaN</td>\n",
       "      <td>NaN</td>\n",
       "      <td>NaN</td>\n",
       "      <td>NaN</td>\n",
       "      <td>-12.0</td>\n",
       "    </tr>\n",
       "    <tr>\n",
       "      <th>...</th>\n",
       "      <td>...</td>\n",
       "      <td>...</td>\n",
       "      <td>...</td>\n",
       "      <td>...</td>\n",
       "      <td>...</td>\n",
       "      <td>...</td>\n",
       "      <td>...</td>\n",
       "      <td>...</td>\n",
       "      <td>...</td>\n",
       "      <td>...</td>\n",
       "      <td>...</td>\n",
       "      <td>...</td>\n",
       "      <td>...</td>\n",
       "      <td>...</td>\n",
       "      <td>...</td>\n",
       "      <td>...</td>\n",
       "      <td>...</td>\n",
       "    </tr>\n",
       "    <tr>\n",
       "      <th>2474306</th>\n",
       "      <td>2019-01-27</td>\n",
       "      <td>14771</td>\n",
       "      <td>10423</td>\n",
       "      <td>WN</td>\n",
       "      <td>1</td>\n",
       "      <td>2019</td>\n",
       "      <td>16.0</td>\n",
       "      <td>857.0</td>\n",
       "      <td>1352.0</td>\n",
       "      <td>3.0</td>\n",
       "      <td>1504</td>\n",
       "      <td>NaN</td>\n",
       "      <td>NaN</td>\n",
       "      <td>NaN</td>\n",
       "      <td>NaN</td>\n",
       "      <td>NaN</td>\n",
       "      <td>-25.0</td>\n",
       "    </tr>\n",
       "    <tr>\n",
       "      <th>2485101</th>\n",
       "      <td>2019-01-28</td>\n",
       "      <td>14771</td>\n",
       "      <td>10423</td>\n",
       "      <td>WN</td>\n",
       "      <td>1</td>\n",
       "      <td>2019</td>\n",
       "      <td>15.0</td>\n",
       "      <td>701.0</td>\n",
       "      <td>1145.0</td>\n",
       "      <td>19.0</td>\n",
       "      <td>1504</td>\n",
       "      <td>NaN</td>\n",
       "      <td>NaN</td>\n",
       "      <td>NaN</td>\n",
       "      <td>NaN</td>\n",
       "      <td>NaN</td>\n",
       "      <td>-21.0</td>\n",
       "    </tr>\n",
       "    <tr>\n",
       "      <th>2489453</th>\n",
       "      <td>2019-01-29</td>\n",
       "      <td>14771</td>\n",
       "      <td>10423</td>\n",
       "      <td>WN</td>\n",
       "      <td>1</td>\n",
       "      <td>2019</td>\n",
       "      <td>10.0</td>\n",
       "      <td>654.0</td>\n",
       "      <td>1146.0</td>\n",
       "      <td>11.0</td>\n",
       "      <td>1504</td>\n",
       "      <td>NaN</td>\n",
       "      <td>NaN</td>\n",
       "      <td>NaN</td>\n",
       "      <td>NaN</td>\n",
       "      <td>NaN</td>\n",
       "      <td>-28.0</td>\n",
       "    </tr>\n",
       "    <tr>\n",
       "      <th>2492815</th>\n",
       "      <td>2019-01-30</td>\n",
       "      <td>14771</td>\n",
       "      <td>10423</td>\n",
       "      <td>WN</td>\n",
       "      <td>1</td>\n",
       "      <td>2019</td>\n",
       "      <td>27.0</td>\n",
       "      <td>712.0</td>\n",
       "      <td>1208.0</td>\n",
       "      <td>4.0</td>\n",
       "      <td>1504</td>\n",
       "      <td>NaN</td>\n",
       "      <td>NaN</td>\n",
       "      <td>NaN</td>\n",
       "      <td>NaN</td>\n",
       "      <td>NaN</td>\n",
       "      <td>-13.0</td>\n",
       "    </tr>\n",
       "    <tr>\n",
       "      <th>2504596</th>\n",
       "      <td>2019-01-31</td>\n",
       "      <td>14771</td>\n",
       "      <td>10423</td>\n",
       "      <td>WN</td>\n",
       "      <td>1</td>\n",
       "      <td>2019</td>\n",
       "      <td>20.0</td>\n",
       "      <td>714.0</td>\n",
       "      <td>1219.0</td>\n",
       "      <td>6.0</td>\n",
       "      <td>1504</td>\n",
       "      <td>NaN</td>\n",
       "      <td>NaN</td>\n",
       "      <td>NaN</td>\n",
       "      <td>NaN</td>\n",
       "      <td>NaN</td>\n",
       "      <td>0.0</td>\n",
       "    </tr>\n",
       "  </tbody>\n",
       "</table>\n",
       "<p>4476 rows × 17 columns</p>\n",
       "</div>"
      ],
      "text/plain": [
       "           fl_date  origin_airport_id  dest_airport_id mkt_unique_carrier  \\\n",
       "4449171 2018-01-01              10397            10423                 DL   \n",
       "4449276 2018-01-01              10397            10423                 DL   \n",
       "4449304 2018-01-01              10397            10423                 DL   \n",
       "4449490 2018-01-01              10397            10423                 DL   \n",
       "4449494 2018-01-01              10397            10423                 DL   \n",
       "...            ...                ...              ...                ...   \n",
       "2474306 2019-01-27              14771            10423                 WN   \n",
       "2485101 2019-01-28              14771            10423                 WN   \n",
       "2489453 2019-01-29              14771            10423                 WN   \n",
       "2492815 2019-01-30              14771            10423                 WN   \n",
       "2504596 2019-01-31              14771            10423                 WN   \n",
       "\n",
       "         month  year  taxi_out  wheels_off  wheels_on  taxi_in  distance  \\\n",
       "4449171      1  2018      13.0      1227.0     1335.0      4.0       813   \n",
       "4449276      1  2018      25.0      1647.0     1747.0      7.0       813   \n",
       "4449304      1  2018      12.0      1937.0     2041.0      3.0       813   \n",
       "4449490      1  2018      18.0      2223.0     2320.0     14.0       813   \n",
       "4449494      1  2018      14.0       853.0      959.0      4.0       813   \n",
       "...        ...   ...       ...         ...        ...      ...       ...   \n",
       "2474306      1  2019      16.0       857.0     1352.0      3.0      1504   \n",
       "2485101      1  2019      15.0       701.0     1145.0     19.0      1504   \n",
       "2489453      1  2019      10.0       654.0     1146.0     11.0      1504   \n",
       "2492815      1  2019      27.0       712.0     1208.0      4.0      1504   \n",
       "2504596      1  2019      20.0       714.0     1219.0      6.0      1504   \n",
       "\n",
       "         carrier_delay  weather_delay  nas_delay  security_delay  \\\n",
       "4449171            NaN            NaN        NaN             NaN   \n",
       "4449276            NaN            NaN        NaN             NaN   \n",
       "4449304            NaN            NaN        NaN             NaN   \n",
       "4449490            NaN            NaN        NaN             NaN   \n",
       "4449494            NaN            NaN        NaN             NaN   \n",
       "...                ...            ...        ...             ...   \n",
       "2474306            NaN            NaN        NaN             NaN   \n",
       "2485101            NaN            NaN        NaN             NaN   \n",
       "2489453            NaN            NaN        NaN             NaN   \n",
       "2492815            NaN            NaN        NaN             NaN   \n",
       "2504596            NaN            NaN        NaN             NaN   \n",
       "\n",
       "         late_aircraft_delay  arr_delay  \n",
       "4449171                  NaN      -11.0  \n",
       "4449276                  NaN       -1.0  \n",
       "4449304                  NaN      -23.0  \n",
       "4449490                  NaN        2.0  \n",
       "4449494                  NaN      -12.0  \n",
       "...                      ...        ...  \n",
       "2474306                  NaN      -25.0  \n",
       "2485101                  NaN      -21.0  \n",
       "2489453                  NaN      -28.0  \n",
       "2492815                  NaN      -13.0  \n",
       "2504596                  NaN        0.0  \n",
       "\n",
       "[4476 rows x 17 columns]"
      ]
     },
     "execution_count": 24,
     "metadata": {},
     "output_type": "execute_result"
    }
   ],
   "source": [
    "#\n",
    "model_df.loc[(model_df['fl_date'].dt.month == 1) & (model_df['dest_airport_id'] == 10423)].sort_values(['origin_airport_id', 'mkt_unique_carrier', 'fl_date','dest_airport_id'])"
   ]
  },
  {
   "cell_type": "markdown",
   "id": "759a91b2-1607-4275-90fe-ef49ee860700",
   "metadata": {},
   "source": [
    "### Combine this DF with passengers"
   ]
  },
  {
   "cell_type": "code",
   "execution_count": 25,
   "id": "31844109-d1bb-4679-b5ac-4f2d696e8a5a",
   "metadata": {},
   "outputs": [
    {
     "ename": "KeyboardInterrupt",
     "evalue": "",
     "output_type": "error",
     "traceback": [
      "\u001b[0;31m---------------------------------------------------------------------------\u001b[0m",
      "\u001b[0;31mKeyboardInterrupt\u001b[0m                         Traceback (most recent call last)",
      "\u001b[0;32m<ipython-input-25-0be8d97aecfc>\u001b[0m in \u001b[0;36m<module>\u001b[0;34m\u001b[0m\n\u001b[0;32m----> 1\u001b[0;31m \u001b[0mmodel_df\u001b[0m\u001b[0;34m.\u001b[0m\u001b[0mto_csv\u001b[0m\u001b[0;34m(\u001b[0m\u001b[0;34m'../../../data/flights/newflightTrain.csv'\u001b[0m\u001b[0;34m)\u001b[0m\u001b[0;34m\u001b[0m\u001b[0;34m\u001b[0m\u001b[0m\n\u001b[0m",
      "\u001b[0;32m~/opt/anaconda3/envs/lighthouselabs_env/lib/python3.6/site-packages/pandas/core/generic.py\u001b[0m in \u001b[0;36mto_csv\u001b[0;34m(self, path_or_buf, sep, na_rep, float_format, columns, header, index, index_label, mode, encoding, compression, quoting, quotechar, line_terminator, chunksize, date_format, doublequote, escapechar, decimal, errors)\u001b[0m\n\u001b[1;32m   3168\u001b[0m             \u001b[0mdecimal\u001b[0m\u001b[0;34m=\u001b[0m\u001b[0mdecimal\u001b[0m\u001b[0;34m,\u001b[0m\u001b[0;34m\u001b[0m\u001b[0;34m\u001b[0m\u001b[0m\n\u001b[1;32m   3169\u001b[0m         )\n\u001b[0;32m-> 3170\u001b[0;31m         \u001b[0mformatter\u001b[0m\u001b[0;34m.\u001b[0m\u001b[0msave\u001b[0m\u001b[0;34m(\u001b[0m\u001b[0;34m)\u001b[0m\u001b[0;34m\u001b[0m\u001b[0;34m\u001b[0m\u001b[0m\n\u001b[0m\u001b[1;32m   3171\u001b[0m \u001b[0;34m\u001b[0m\u001b[0m\n\u001b[1;32m   3172\u001b[0m         \u001b[0;32mif\u001b[0m \u001b[0mpath_or_buf\u001b[0m \u001b[0;32mis\u001b[0m \u001b[0;32mNone\u001b[0m\u001b[0;34m:\u001b[0m\u001b[0;34m\u001b[0m\u001b[0;34m\u001b[0m\u001b[0m\n",
      "\u001b[0;32m~/opt/anaconda3/envs/lighthouselabs_env/lib/python3.6/site-packages/pandas/io/formats/csvs.py\u001b[0m in \u001b[0;36msave\u001b[0;34m(self)\u001b[0m\n\u001b[1;32m    204\u001b[0m             )\n\u001b[1;32m    205\u001b[0m \u001b[0;34m\u001b[0m\u001b[0m\n\u001b[0;32m--> 206\u001b[0;31m             \u001b[0mself\u001b[0m\u001b[0;34m.\u001b[0m\u001b[0m_save\u001b[0m\u001b[0;34m(\u001b[0m\u001b[0;34m)\u001b[0m\u001b[0;34m\u001b[0m\u001b[0;34m\u001b[0m\u001b[0m\n\u001b[0m\u001b[1;32m    207\u001b[0m \u001b[0;34m\u001b[0m\u001b[0m\n\u001b[1;32m    208\u001b[0m         \u001b[0;32mfinally\u001b[0m\u001b[0;34m:\u001b[0m\u001b[0;34m\u001b[0m\u001b[0;34m\u001b[0m\u001b[0m\n",
      "\u001b[0;32m~/opt/anaconda3/envs/lighthouselabs_env/lib/python3.6/site-packages/pandas/io/formats/csvs.py\u001b[0m in \u001b[0;36m_save\u001b[0;34m(self)\u001b[0m\n\u001b[1;32m    326\u001b[0m                 \u001b[0;32mbreak\u001b[0m\u001b[0;34m\u001b[0m\u001b[0;34m\u001b[0m\u001b[0m\n\u001b[1;32m    327\u001b[0m \u001b[0;34m\u001b[0m\u001b[0m\n\u001b[0;32m--> 328\u001b[0;31m             \u001b[0mself\u001b[0m\u001b[0;34m.\u001b[0m\u001b[0m_save_chunk\u001b[0m\u001b[0;34m(\u001b[0m\u001b[0mstart_i\u001b[0m\u001b[0;34m,\u001b[0m \u001b[0mend_i\u001b[0m\u001b[0;34m)\u001b[0m\u001b[0;34m\u001b[0m\u001b[0;34m\u001b[0m\u001b[0m\n\u001b[0m\u001b[1;32m    329\u001b[0m \u001b[0;34m\u001b[0m\u001b[0m\n\u001b[1;32m    330\u001b[0m     \u001b[0;32mdef\u001b[0m \u001b[0m_save_chunk\u001b[0m\u001b[0;34m(\u001b[0m\u001b[0mself\u001b[0m\u001b[0;34m,\u001b[0m \u001b[0mstart_i\u001b[0m\u001b[0;34m:\u001b[0m \u001b[0mint\u001b[0m\u001b[0;34m,\u001b[0m \u001b[0mend_i\u001b[0m\u001b[0;34m:\u001b[0m \u001b[0mint\u001b[0m\u001b[0;34m)\u001b[0m \u001b[0;34m->\u001b[0m \u001b[0;32mNone\u001b[0m\u001b[0;34m:\u001b[0m\u001b[0;34m\u001b[0m\u001b[0;34m\u001b[0m\u001b[0m\n",
      "\u001b[0;32m~/opt/anaconda3/envs/lighthouselabs_env/lib/python3.6/site-packages/pandas/io/formats/csvs.py\u001b[0m in \u001b[0;36m_save_chunk\u001b[0;34m(self, start_i, end_i)\u001b[0m\n\u001b[1;32m    344\u001b[0m                 \u001b[0mdecimal\u001b[0m\u001b[0;34m=\u001b[0m\u001b[0mself\u001b[0m\u001b[0;34m.\u001b[0m\u001b[0mdecimal\u001b[0m\u001b[0;34m,\u001b[0m\u001b[0;34m\u001b[0m\u001b[0;34m\u001b[0m\u001b[0m\n\u001b[1;32m    345\u001b[0m                 \u001b[0mdate_format\u001b[0m\u001b[0;34m=\u001b[0m\u001b[0mself\u001b[0m\u001b[0;34m.\u001b[0m\u001b[0mdate_format\u001b[0m\u001b[0;34m,\u001b[0m\u001b[0;34m\u001b[0m\u001b[0;34m\u001b[0m\u001b[0m\n\u001b[0;32m--> 346\u001b[0;31m                 \u001b[0mquoting\u001b[0m\u001b[0;34m=\u001b[0m\u001b[0mself\u001b[0m\u001b[0;34m.\u001b[0m\u001b[0mquoting\u001b[0m\u001b[0;34m,\u001b[0m\u001b[0;34m\u001b[0m\u001b[0;34m\u001b[0m\u001b[0m\n\u001b[0m\u001b[1;32m    347\u001b[0m             )\n\u001b[1;32m    348\u001b[0m \u001b[0;34m\u001b[0m\u001b[0m\n",
      "\u001b[0;32m~/opt/anaconda3/envs/lighthouselabs_env/lib/python3.6/site-packages/pandas/core/internals/blocks.py\u001b[0m in \u001b[0;36mto_native_types\u001b[0;34m(self, na_rep, date_format, **kwargs)\u001b[0m\n\u001b[1;32m   2125\u001b[0m \u001b[0;34m\u001b[0m\u001b[0m\n\u001b[1;32m   2126\u001b[0m         result = dta._format_native_types(\n\u001b[0;32m-> 2127\u001b[0;31m             \u001b[0mna_rep\u001b[0m\u001b[0;34m=\u001b[0m\u001b[0mna_rep\u001b[0m\u001b[0;34m,\u001b[0m \u001b[0mdate_format\u001b[0m\u001b[0;34m=\u001b[0m\u001b[0mdate_format\u001b[0m\u001b[0;34m,\u001b[0m \u001b[0;34m**\u001b[0m\u001b[0mkwargs\u001b[0m\u001b[0;34m\u001b[0m\u001b[0;34m\u001b[0m\u001b[0m\n\u001b[0m\u001b[1;32m   2128\u001b[0m         )\n\u001b[1;32m   2129\u001b[0m         \u001b[0;32mreturn\u001b[0m \u001b[0mnp\u001b[0m\u001b[0;34m.\u001b[0m\u001b[0matleast_2d\u001b[0m\u001b[0;34m(\u001b[0m\u001b[0mresult\u001b[0m\u001b[0;34m)\u001b[0m\u001b[0;34m\u001b[0m\u001b[0;34m\u001b[0m\u001b[0m\n",
      "\u001b[0;32m~/opt/anaconda3/envs/lighthouselabs_env/lib/python3.6/site-packages/pandas/core/arrays/datetimes.py\u001b[0m in \u001b[0;36m_format_native_types\u001b[0;34m(self, na_rep, date_format, **kwargs)\u001b[0m\n\u001b[1;32m    609\u001b[0m \u001b[0;34m\u001b[0m\u001b[0m\n\u001b[1;32m    610\u001b[0m         return tslib.format_array_from_datetime(\n\u001b[0;32m--> 611\u001b[0;31m             \u001b[0mself\u001b[0m\u001b[0;34m.\u001b[0m\u001b[0masi8\u001b[0m\u001b[0;34m.\u001b[0m\u001b[0mravel\u001b[0m\u001b[0;34m(\u001b[0m\u001b[0;34m)\u001b[0m\u001b[0;34m,\u001b[0m \u001b[0mtz\u001b[0m\u001b[0;34m=\u001b[0m\u001b[0mself\u001b[0m\u001b[0;34m.\u001b[0m\u001b[0mtz\u001b[0m\u001b[0;34m,\u001b[0m \u001b[0mformat\u001b[0m\u001b[0;34m=\u001b[0m\u001b[0mfmt\u001b[0m\u001b[0;34m,\u001b[0m \u001b[0mna_rep\u001b[0m\u001b[0;34m=\u001b[0m\u001b[0mna_rep\u001b[0m\u001b[0;34m\u001b[0m\u001b[0;34m\u001b[0m\u001b[0m\n\u001b[0m\u001b[1;32m    612\u001b[0m         ).reshape(self.shape)\n\u001b[1;32m    613\u001b[0m \u001b[0;34m\u001b[0m\u001b[0m\n",
      "\u001b[0;32mpandas/_libs/tslib.pyx\u001b[0m in \u001b[0;36mpandas._libs.tslib.format_array_from_datetime\u001b[0;34m()\u001b[0m\n",
      "\u001b[0;32mpandas/_libs/tslibs/timestamps.pyx\u001b[0m in \u001b[0;36mpandas._libs.tslibs.timestamps.Timestamp.__new__\u001b[0;34m()\u001b[0m\n",
      "\u001b[0;32mpandas/_libs/tslibs/conversion.pyx\u001b[0m in \u001b[0;36mpandas._libs.tslibs.conversion.convert_to_tsobject\u001b[0;34m()\u001b[0m\n",
      "\u001b[0;31mKeyboardInterrupt\u001b[0m: "
     ]
    }
   ],
   "source": [
    "model_df.to_csv('../../../data/flights/newflightTrain.csv')"
   ]
  },
  {
   "cell_type": "markdown",
   "id": "fe0031e1-7515-4a53-9958-c9c58c7abfbe",
   "metadata": {},
   "source": [
    "## Relationship Tests"
   ]
  },
  {
   "cell_type": "code",
   "execution_count": null,
   "id": "c8d732f1-408f-4626-8793-92ed5f892063",
   "metadata": {},
   "outputs": [],
   "source": [
    "WNflights03['flight_status'] = (WNflights03['arr_delay'] > 15).replace([True,False],[1,0])"
   ]
  },
  {
   "cell_type": "code",
   "execution_count": null,
   "id": "8226411d-39e7-4a4a-a0ac-ec62a2b81d4f",
   "metadata": {},
   "outputs": [],
   "source": [
    "\n",
    "plt.figure(figsize=(20, 10))\n",
    "sns.set(font_scale=1.6)\n",
    "axis = sns.countplot(x=WNflights03['mkt_carrier'], data=WNflights03, order=WNflights03['mkt_carrier'].value_counts().iloc[0:18].index, orient=\"v\")\n",
    "axis.set_xticklabels(axis.get_xticklabels(), rotation=90, ha='right')\n",
    "plt.title('TOTAL NUMBER OF FLIGHTS BY AIRLINE', fontsize=24)\n",
    "plt.xlabel('OP_CARRIER/AIRLINE', fontsize=18)\n",
    "plt.ylabel('NUMBER OF FLIGHTS', fontsize=18)\n",
    "plt.tight_layout()\n",
    "plt.show()"
   ]
  },
  {
   "cell_type": "code",
   "execution_count": null,
   "id": "c6de5926-1d38-4765-91d1-d84fcaa806a0",
   "metadata": {},
   "outputs": [],
   "source": [
    "\n",
    "plt.figure(figsize=(20, 10))\n",
    "WNflights03.groupby('mkt_carrier').flight_status.sum().sort_values(ascending=False).plot.bar()\n",
    "plt.title('TOTAL DELAYED FLIGHTS BY AIRLINE', fontsize=20)\n",
    "plt.xlabel('AIRLINEE NAME', fontsize=16)\n",
    "plt.ylabel('NUMBRE OF FLIGHTS', fontsize=16)\n",
    "plt.rc('xtick',labelsize=10)\n",
    "plt.rc('ytick',labelsize=10)\n",
    "plt.show()"
   ]
  },
  {
   "cell_type": "code",
   "execution_count": null,
   "id": "9eaa298e-e8e1-4627-bfc4-775f48a44250",
   "metadata": {},
   "outputs": [],
   "source": [
    "test_1 = WNflights03[['mkt_carrier', 'flight_status']].groupby(['mkt_carrier']).sum().reset_index()\n",
    "test_2 = WNflights03.mkt_carrier.value_counts().rename_axis('mkt_carrier').reset_index(name='TOTAL_FLIGHTS')\n",
    "overview = pd.merge(test_1, test_2, on='mkt_carrier')\n",
    "overview['carrier_perc_delay'] = round((overview['flight_status']*100)/overview['TOTAL_FLIGHTS'], 2)\n",
    "overview.rename({'FLIGHT_STATUS': 'DELAYED_FLIGHTS'}, axis=1, inplace=True)"
   ]
  },
  {
   "cell_type": "code",
   "execution_count": null,
   "id": "6624ba86-7440-4f42-b712-dae63e0c01cd",
   "metadata": {},
   "outputs": [],
   "source": [
    "plt.figure(figsize=(20, 10))\n",
    "overview.groupby('mkt_carrier').carrier_perc_delay.sum().sort_values(ascending=False).plot.bar(fontsize=14)\n",
    "plt.title('PERCENTAGE OF DELAYED FLIGHTS BY AIRLINE', fontsize=20)\n",
    "plt.xlabel('AIRLINE', fontsize=16)\n",
    "plt.ylabel('PERCENTAGE', fontsize=16)\n",
    "plt.rc('xtick',labelsize=14)\n",
    "plt.rc('ytick',labelsize=14)\n",
    "plt.show()"
   ]
  },
  {
   "cell_type": "code",
   "execution_count": null,
   "id": "014678cf-4214-427d-a09f-041e93cdbb3a",
   "metadata": {},
   "outputs": [],
   "source": [
    "test_3 = WNflights03[['mkt_carrier', 'arr_delay']]\n",
    "test_3 = test_3.groupby(['mkt_carrier']).mean().reset_index()\n",
    "test_3.rename({'arr_delay': 'carrier_delay'}, axis=1, inplace=True)\n",
    "test_3 = test_3.sort_values(['carrier_delay']).reset_index(drop=True)"
   ]
  },
  {
   "cell_type": "code",
   "execution_count": null,
   "id": "cc64a3a3-7cac-4886-af28-08d783c26944",
   "metadata": {},
   "outputs": [],
   "source": [
    "fig = plt.figure(1, figsize=(15,9))\n",
    "sns.set(font_scale=1.6)\n",
    "ax = sns.barplot(x='carrier_delay', y='mkt_carrier', data=test_3)\n",
    "ax.set_title('AVERAGE ARRIVAL DELAY BY AIRLINE (mins)', fontsize=18)\n",
    "ax.set_xlabel('AVERAGE DELAY BY AIRLINE (min)', fontsize=14)\n",
    "plt.show()"
   ]
  },
  {
   "cell_type": "markdown",
   "id": "8a367755-cdd9-4f4b-875b-a77d79e59ff2",
   "metadata": {},
   "source": [
    "## Some more cleaning"
   ]
  },
  {
   "cell_type": "code",
   "execution_count": 26,
   "id": "f73fceaf-84ca-456a-8ea4-fbe0e3158757",
   "metadata": {},
   "outputs": [],
   "source": [
    "WNflights04 = WNflights03.copy()"
   ]
  },
  {
   "cell_type": "code",
   "execution_count": 27,
   "id": "6044ecf3-1eaa-4f08-b576-8190279c5759",
   "metadata": {},
   "outputs": [],
   "source": [
    "WNflights04.drop(['carrier_delay','weather_delay','nas_delay','security_delay','late_aircraft_delay'], axis=1, inplace=True)"
   ]
  },
  {
   "cell_type": "code",
   "execution_count": 28,
   "id": "76c966be-49a5-4700-a2dd-3d0ea28ea28d",
   "metadata": {},
   "outputs": [],
   "source": [
    "WNflights04.drop(['air_time'], axis=1,inplace=True)"
   ]
  },
  {
   "cell_type": "code",
   "execution_count": 29,
   "id": "80ae7af7-bbf8-4eb4-a223-9f94240f23a0",
   "metadata": {},
   "outputs": [],
   "source": [
    "WNflights04.drop(['actual_elapsed_time'], axis=1,inplace=True)"
   ]
  },
  {
   "cell_type": "code",
   "execution_count": 30,
   "id": "10b6b801-b71e-4207-be1e-8a11102f6e38",
   "metadata": {},
   "outputs": [],
   "source": [
    "WNflights04.drop(['taxi_out','wheels_off','taxi_in','wheels_on'], axis=1,inplace=True)"
   ]
  },
  {
   "cell_type": "markdown",
   "id": "d46aa7c8-c0fa-460e-afe4-382bb5521a19",
   "metadata": {},
   "source": [
    "## Some more Tests"
   ]
  },
  {
   "cell_type": "code",
   "execution_count": 31,
   "id": "0b44fd0b-60d3-497f-91b7-fc1a35d1f308",
   "metadata": {},
   "outputs": [
    {
     "data": {
      "text/html": [
       "<div>\n",
       "<style scoped>\n",
       "    .dataframe tbody tr th:only-of-type {\n",
       "        vertical-align: middle;\n",
       "    }\n",
       "\n",
       "    .dataframe tbody tr th {\n",
       "        vertical-align: top;\n",
       "    }\n",
       "\n",
       "    .dataframe thead th {\n",
       "        text-align: right;\n",
       "    }\n",
       "</style>\n",
       "<table border=\"1\" class=\"dataframe\">\n",
       "  <thead>\n",
       "    <tr style=\"text-align: right;\">\n",
       "      <th></th>\n",
       "      <th>fl_num</th>\n",
       "      <th>fl_delay</th>\n",
       "    </tr>\n",
       "  </thead>\n",
       "  <tbody>\n",
       "    <tr>\n",
       "      <th>6973</th>\n",
       "      <td>9341</td>\n",
       "      <td>1110.000000</td>\n",
       "    </tr>\n",
       "    <tr>\n",
       "      <th>6999</th>\n",
       "      <td>9389</td>\n",
       "      <td>720.500000</td>\n",
       "    </tr>\n",
       "    <tr>\n",
       "      <th>6926</th>\n",
       "      <td>7306</td>\n",
       "      <td>492.000000</td>\n",
       "    </tr>\n",
       "    <tr>\n",
       "      <th>6994</th>\n",
       "      <td>9383</td>\n",
       "      <td>337.000000</td>\n",
       "    </tr>\n",
       "    <tr>\n",
       "      <th>6996</th>\n",
       "      <td>9386</td>\n",
       "      <td>309.214286</td>\n",
       "    </tr>\n",
       "    <tr>\n",
       "      <th>...</th>\n",
       "      <td>...</td>\n",
       "      <td>...</td>\n",
       "    </tr>\n",
       "    <tr>\n",
       "      <th>6943</th>\n",
       "      <td>7678</td>\n",
       "      <td>-23.000000</td>\n",
       "    </tr>\n",
       "    <tr>\n",
       "      <th>6919</th>\n",
       "      <td>6998</td>\n",
       "      <td>-27.000000</td>\n",
       "    </tr>\n",
       "    <tr>\n",
       "      <th>6940</th>\n",
       "      <td>7460</td>\n",
       "      <td>-28.000000</td>\n",
       "    </tr>\n",
       "    <tr>\n",
       "      <th>6933</th>\n",
       "      <td>7340</td>\n",
       "      <td>-28.000000</td>\n",
       "    </tr>\n",
       "    <tr>\n",
       "      <th>6680</th>\n",
       "      <td>6706</td>\n",
       "      <td>-28.000000</td>\n",
       "    </tr>\n",
       "  </tbody>\n",
       "</table>\n",
       "<p>7001 rows × 2 columns</p>\n",
       "</div>"
      ],
      "text/plain": [
       "      fl_num     fl_delay\n",
       "6973    9341  1110.000000\n",
       "6999    9389   720.500000\n",
       "6926    7306   492.000000\n",
       "6994    9383   337.000000\n",
       "6996    9386   309.214286\n",
       "...      ...          ...\n",
       "6943    7678   -23.000000\n",
       "6919    6998   -27.000000\n",
       "6940    7460   -28.000000\n",
       "6933    7340   -28.000000\n",
       "6680    6706   -28.000000\n",
       "\n",
       "[7001 rows x 2 columns]"
      ]
     },
     "execution_count": 31,
     "metadata": {},
     "output_type": "execute_result"
    }
   ],
   "source": [
    "test04 = WNflights04.groupby('op_carrier_fl_num').mean()['arr_delay']\n",
    "test04 = pd.DataFrame({'fl_num':test04.index,'fl_delay':test04.values})\n",
    "test04.sort_values('fl_delay',ascending=False)"
   ]
  },
  {
   "cell_type": "code",
   "execution_count": 32,
   "id": "3f1eab95-8e99-4c27-b9c0-73b9bf386d60",
   "metadata": {},
   "outputs": [
    {
     "ename": "KeyError",
     "evalue": "'tail_num'",
     "output_type": "error",
     "traceback": [
      "\u001b[0;31m---------------------------------------------------------------------------\u001b[0m",
      "\u001b[0;31mKeyError\u001b[0m                                  Traceback (most recent call last)",
      "\u001b[0;32m<ipython-input-32-2bc11a580261>\u001b[0m in \u001b[0;36m<module>\u001b[0;34m\u001b[0m\n\u001b[0;32m----> 1\u001b[0;31m \u001b[0mtest05\u001b[0m \u001b[0;34m=\u001b[0m \u001b[0mWNflights04\u001b[0m\u001b[0;34m.\u001b[0m\u001b[0mgroupby\u001b[0m\u001b[0;34m(\u001b[0m\u001b[0;34m'tail_num'\u001b[0m\u001b[0;34m)\u001b[0m\u001b[0;34m.\u001b[0m\u001b[0mmean\u001b[0m\u001b[0;34m(\u001b[0m\u001b[0;34m)\u001b[0m\u001b[0;34m[\u001b[0m\u001b[0;34m'arr_delay'\u001b[0m\u001b[0;34m]\u001b[0m\u001b[0;34m\u001b[0m\u001b[0;34m\u001b[0m\u001b[0m\n\u001b[0m\u001b[1;32m      2\u001b[0m \u001b[0mtest05\u001b[0m \u001b[0;34m=\u001b[0m \u001b[0mpd\u001b[0m\u001b[0;34m.\u001b[0m\u001b[0mDataFrame\u001b[0m\u001b[0;34m(\u001b[0m\u001b[0;34m{\u001b[0m\u001b[0;34m'tail_num'\u001b[0m\u001b[0;34m:\u001b[0m\u001b[0mtest05\u001b[0m\u001b[0;34m.\u001b[0m\u001b[0mindex\u001b[0m\u001b[0;34m,\u001b[0m\u001b[0;34m'tail_delay'\u001b[0m\u001b[0;34m:\u001b[0m\u001b[0mtest05\u001b[0m\u001b[0;34m.\u001b[0m\u001b[0mvalues\u001b[0m\u001b[0;34m}\u001b[0m\u001b[0;34m)\u001b[0m\u001b[0;34m\u001b[0m\u001b[0;34m\u001b[0m\u001b[0m\n\u001b[1;32m      3\u001b[0m \u001b[0mtest05\u001b[0m\u001b[0;34m.\u001b[0m\u001b[0msort_values\u001b[0m\u001b[0;34m(\u001b[0m\u001b[0;34m'tail_delay'\u001b[0m\u001b[0;34m,\u001b[0m\u001b[0mascending\u001b[0m\u001b[0;34m=\u001b[0m\u001b[0;32mFalse\u001b[0m\u001b[0;34m)\u001b[0m\u001b[0;34m\u001b[0m\u001b[0;34m\u001b[0m\u001b[0m\n",
      "\u001b[0;32m~/opt/anaconda3/envs/lighthouselabs_env/lib/python3.6/site-packages/pandas/core/frame.py\u001b[0m in \u001b[0;36mgroupby\u001b[0;34m(self, by, axis, level, as_index, sort, group_keys, squeeze, observed, dropna)\u001b[0m\n\u001b[1;32m   6523\u001b[0m             \u001b[0msqueeze\u001b[0m\u001b[0;34m=\u001b[0m\u001b[0msqueeze\u001b[0m\u001b[0;34m,\u001b[0m\u001b[0;34m\u001b[0m\u001b[0;34m\u001b[0m\u001b[0m\n\u001b[1;32m   6524\u001b[0m             \u001b[0mobserved\u001b[0m\u001b[0;34m=\u001b[0m\u001b[0mobserved\u001b[0m\u001b[0;34m,\u001b[0m\u001b[0;34m\u001b[0m\u001b[0;34m\u001b[0m\u001b[0m\n\u001b[0;32m-> 6525\u001b[0;31m             \u001b[0mdropna\u001b[0m\u001b[0;34m=\u001b[0m\u001b[0mdropna\u001b[0m\u001b[0;34m,\u001b[0m\u001b[0;34m\u001b[0m\u001b[0;34m\u001b[0m\u001b[0m\n\u001b[0m\u001b[1;32m   6526\u001b[0m         )\n\u001b[1;32m   6527\u001b[0m \u001b[0;34m\u001b[0m\u001b[0m\n",
      "\u001b[0;32m~/opt/anaconda3/envs/lighthouselabs_env/lib/python3.6/site-packages/pandas/core/groupby/groupby.py\u001b[0m in \u001b[0;36m__init__\u001b[0;34m(self, obj, keys, axis, level, grouper, exclusions, selection, as_index, sort, group_keys, squeeze, observed, mutated, dropna)\u001b[0m\n\u001b[1;32m    531\u001b[0m                 \u001b[0mobserved\u001b[0m\u001b[0;34m=\u001b[0m\u001b[0mobserved\u001b[0m\u001b[0;34m,\u001b[0m\u001b[0;34m\u001b[0m\u001b[0;34m\u001b[0m\u001b[0m\n\u001b[1;32m    532\u001b[0m                 \u001b[0mmutated\u001b[0m\u001b[0;34m=\u001b[0m\u001b[0mself\u001b[0m\u001b[0;34m.\u001b[0m\u001b[0mmutated\u001b[0m\u001b[0;34m,\u001b[0m\u001b[0;34m\u001b[0m\u001b[0;34m\u001b[0m\u001b[0m\n\u001b[0;32m--> 533\u001b[0;31m                 \u001b[0mdropna\u001b[0m\u001b[0;34m=\u001b[0m\u001b[0mself\u001b[0m\u001b[0;34m.\u001b[0m\u001b[0mdropna\u001b[0m\u001b[0;34m,\u001b[0m\u001b[0;34m\u001b[0m\u001b[0;34m\u001b[0m\u001b[0m\n\u001b[0m\u001b[1;32m    534\u001b[0m             )\n\u001b[1;32m    535\u001b[0m \u001b[0;34m\u001b[0m\u001b[0m\n",
      "\u001b[0;32m~/opt/anaconda3/envs/lighthouselabs_env/lib/python3.6/site-packages/pandas/core/groupby/grouper.py\u001b[0m in \u001b[0;36mget_grouper\u001b[0;34m(obj, key, axis, level, sort, observed, mutated, validate, dropna)\u001b[0m\n\u001b[1;32m    784\u001b[0m                 \u001b[0min_axis\u001b[0m\u001b[0;34m,\u001b[0m \u001b[0mname\u001b[0m\u001b[0;34m,\u001b[0m \u001b[0mlevel\u001b[0m\u001b[0;34m,\u001b[0m \u001b[0mgpr\u001b[0m \u001b[0;34m=\u001b[0m \u001b[0;32mFalse\u001b[0m\u001b[0;34m,\u001b[0m \u001b[0;32mNone\u001b[0m\u001b[0;34m,\u001b[0m \u001b[0mgpr\u001b[0m\u001b[0;34m,\u001b[0m \u001b[0;32mNone\u001b[0m\u001b[0;34m\u001b[0m\u001b[0;34m\u001b[0m\u001b[0m\n\u001b[1;32m    785\u001b[0m             \u001b[0;32melse\u001b[0m\u001b[0;34m:\u001b[0m\u001b[0;34m\u001b[0m\u001b[0;34m\u001b[0m\u001b[0m\n\u001b[0;32m--> 786\u001b[0;31m                 \u001b[0;32mraise\u001b[0m \u001b[0mKeyError\u001b[0m\u001b[0;34m(\u001b[0m\u001b[0mgpr\u001b[0m\u001b[0;34m)\u001b[0m\u001b[0;34m\u001b[0m\u001b[0;34m\u001b[0m\u001b[0m\n\u001b[0m\u001b[1;32m    787\u001b[0m         \u001b[0;32melif\u001b[0m \u001b[0misinstance\u001b[0m\u001b[0;34m(\u001b[0m\u001b[0mgpr\u001b[0m\u001b[0;34m,\u001b[0m \u001b[0mGrouper\u001b[0m\u001b[0;34m)\u001b[0m \u001b[0;32mand\u001b[0m \u001b[0mgpr\u001b[0m\u001b[0;34m.\u001b[0m\u001b[0mkey\u001b[0m \u001b[0;32mis\u001b[0m \u001b[0;32mnot\u001b[0m \u001b[0;32mNone\u001b[0m\u001b[0;34m:\u001b[0m\u001b[0;34m\u001b[0m\u001b[0;34m\u001b[0m\u001b[0m\n\u001b[1;32m    788\u001b[0m             \u001b[0;31m# Add key to exclusions\u001b[0m\u001b[0;34m\u001b[0m\u001b[0;34m\u001b[0m\u001b[0;34m\u001b[0m\u001b[0m\n",
      "\u001b[0;31mKeyError\u001b[0m: 'tail_num'"
     ]
    }
   ],
   "source": [
    "test05 = WNflights04.groupby('tail_num').mean()['arr_delay']\n",
    "test05 = pd.DataFrame({'tail_num':test05.index,'tail_delay':test05.values})\n",
    "test05.sort_values('tail_delay',ascending=False)"
   ]
  },
  {
   "cell_type": "code",
   "execution_count": 33,
   "id": "e4b7302e-9a21-4f87-b860-390721098b8a",
   "metadata": {},
   "outputs": [],
   "source": [
    "dates = WNflights04['fl_date'].values.tolist()"
   ]
  },
  {
   "cell_type": "code",
   "execution_count": 34,
   "id": "5df45b34-8fe2-4f89-b999-114492aabc40",
   "metadata": {},
   "outputs": [
    {
     "ename": "TypeError",
     "evalue": "'int' object is not subscriptable",
     "output_type": "error",
     "traceback": [
      "\u001b[0;31m---------------------------------------------------------------------------\u001b[0m",
      "\u001b[0;31mTypeError\u001b[0m                                 Traceback (most recent call last)",
      "\u001b[0;32m<ipython-input-34-3057a062ee71>\u001b[0m in \u001b[0;36m<module>\u001b[0;34m\u001b[0m\n\u001b[1;32m      3\u001b[0m \u001b[0myear\u001b[0m \u001b[0;34m=\u001b[0m \u001b[0;34m[\u001b[0m\u001b[0;34m]\u001b[0m\u001b[0;34m\u001b[0m\u001b[0;34m\u001b[0m\u001b[0m\n\u001b[1;32m      4\u001b[0m \u001b[0;32mfor\u001b[0m \u001b[0mi\u001b[0m \u001b[0;32min\u001b[0m \u001b[0mdates\u001b[0m\u001b[0;34m:\u001b[0m\u001b[0;34m\u001b[0m\u001b[0;34m\u001b[0m\u001b[0m\n\u001b[0;32m----> 5\u001b[0;31m     \u001b[0myear\u001b[0m\u001b[0;34m.\u001b[0m\u001b[0mappend\u001b[0m\u001b[0;34m(\u001b[0m\u001b[0mi\u001b[0m\u001b[0;34m[\u001b[0m\u001b[0;36m0\u001b[0m\u001b[0;34m:\u001b[0m\u001b[0;36m4\u001b[0m\u001b[0;34m]\u001b[0m\u001b[0;34m)\u001b[0m\u001b[0;34m\u001b[0m\u001b[0;34m\u001b[0m\u001b[0m\n\u001b[0m\u001b[1;32m      6\u001b[0m     \u001b[0mmonth\u001b[0m\u001b[0;34m.\u001b[0m\u001b[0mappend\u001b[0m\u001b[0;34m(\u001b[0m\u001b[0mi\u001b[0m\u001b[0;34m[\u001b[0m\u001b[0;36m5\u001b[0m\u001b[0;34m:\u001b[0m\u001b[0;36m7\u001b[0m\u001b[0;34m]\u001b[0m\u001b[0;34m)\u001b[0m\u001b[0;34m\u001b[0m\u001b[0;34m\u001b[0m\u001b[0m\n\u001b[1;32m      7\u001b[0m     \u001b[0mday\u001b[0m\u001b[0;34m.\u001b[0m\u001b[0mappend\u001b[0m\u001b[0;34m(\u001b[0m\u001b[0mi\u001b[0m\u001b[0;34m[\u001b[0m\u001b[0;36m8\u001b[0m\u001b[0;34m:\u001b[0m\u001b[0;36m10\u001b[0m\u001b[0;34m]\u001b[0m\u001b[0;34m)\u001b[0m\u001b[0;34m\u001b[0m\u001b[0;34m\u001b[0m\u001b[0m\n",
      "\u001b[0;31mTypeError\u001b[0m: 'int' object is not subscriptable"
     ]
    }
   ],
   "source": [
    "month = []\n",
    "day = []\n",
    "year = []\n",
    "for i in dates:\n",
    "    year.append(i[0:4])\n",
    "    month.append(i[5:7])\n",
    "    day.append(i[8:10])"
   ]
  },
  {
   "cell_type": "code",
   "execution_count": 35,
   "id": "df97f044-291c-46b8-8565-68e2c09db5e5",
   "metadata": {},
   "outputs": [
    {
     "ename": "ValueError",
     "evalue": "Length of values (0) does not match length of index (5071774)",
     "output_type": "error",
     "traceback": [
      "\u001b[0;31m---------------------------------------------------------------------------\u001b[0m",
      "\u001b[0;31mValueError\u001b[0m                                Traceback (most recent call last)",
      "\u001b[0;32m<ipython-input-35-540a0d849528>\u001b[0m in \u001b[0;36m<module>\u001b[0;34m\u001b[0m\n\u001b[0;32m----> 1\u001b[0;31m \u001b[0mWNflights04\u001b[0m\u001b[0;34m[\u001b[0m\u001b[0;34m'day'\u001b[0m\u001b[0;34m]\u001b[0m \u001b[0;34m=\u001b[0m \u001b[0mday\u001b[0m\u001b[0;34m\u001b[0m\u001b[0;34m\u001b[0m\u001b[0m\n\u001b[0m\u001b[1;32m      2\u001b[0m \u001b[0mWNflights04\u001b[0m\u001b[0;34m[\u001b[0m\u001b[0;34m'month'\u001b[0m\u001b[0;34m]\u001b[0m \u001b[0;34m=\u001b[0m \u001b[0mmonth\u001b[0m\u001b[0;34m\u001b[0m\u001b[0;34m\u001b[0m\u001b[0m\n\u001b[1;32m      3\u001b[0m \u001b[0mWNflights04\u001b[0m\u001b[0;34m[\u001b[0m\u001b[0;34m'year'\u001b[0m\u001b[0;34m]\u001b[0m \u001b[0;34m=\u001b[0m \u001b[0myear\u001b[0m\u001b[0;34m\u001b[0m\u001b[0;34m\u001b[0m\u001b[0m\n",
      "\u001b[0;32m~/opt/anaconda3/envs/lighthouselabs_env/lib/python3.6/site-packages/pandas/core/frame.py\u001b[0m in \u001b[0;36m__setitem__\u001b[0;34m(self, key, value)\u001b[0m\n\u001b[1;32m   3042\u001b[0m         \u001b[0;32melse\u001b[0m\u001b[0;34m:\u001b[0m\u001b[0;34m\u001b[0m\u001b[0;34m\u001b[0m\u001b[0m\n\u001b[1;32m   3043\u001b[0m             \u001b[0;31m# set column\u001b[0m\u001b[0;34m\u001b[0m\u001b[0;34m\u001b[0m\u001b[0;34m\u001b[0m\u001b[0m\n\u001b[0;32m-> 3044\u001b[0;31m             \u001b[0mself\u001b[0m\u001b[0;34m.\u001b[0m\u001b[0m_set_item\u001b[0m\u001b[0;34m(\u001b[0m\u001b[0mkey\u001b[0m\u001b[0;34m,\u001b[0m \u001b[0mvalue\u001b[0m\u001b[0;34m)\u001b[0m\u001b[0;34m\u001b[0m\u001b[0;34m\u001b[0m\u001b[0m\n\u001b[0m\u001b[1;32m   3045\u001b[0m \u001b[0;34m\u001b[0m\u001b[0m\n\u001b[1;32m   3046\u001b[0m     \u001b[0;32mdef\u001b[0m \u001b[0m_setitem_slice\u001b[0m\u001b[0;34m(\u001b[0m\u001b[0mself\u001b[0m\u001b[0;34m,\u001b[0m \u001b[0mkey\u001b[0m\u001b[0;34m:\u001b[0m \u001b[0mslice\u001b[0m\u001b[0;34m,\u001b[0m \u001b[0mvalue\u001b[0m\u001b[0;34m)\u001b[0m\u001b[0;34m:\u001b[0m\u001b[0;34m\u001b[0m\u001b[0;34m\u001b[0m\u001b[0m\n",
      "\u001b[0;32m~/opt/anaconda3/envs/lighthouselabs_env/lib/python3.6/site-packages/pandas/core/frame.py\u001b[0m in \u001b[0;36m_set_item\u001b[0;34m(self, key, value)\u001b[0m\n\u001b[1;32m   3118\u001b[0m         \"\"\"\n\u001b[1;32m   3119\u001b[0m         \u001b[0mself\u001b[0m\u001b[0;34m.\u001b[0m\u001b[0m_ensure_valid_index\u001b[0m\u001b[0;34m(\u001b[0m\u001b[0mvalue\u001b[0m\u001b[0;34m)\u001b[0m\u001b[0;34m\u001b[0m\u001b[0;34m\u001b[0m\u001b[0m\n\u001b[0;32m-> 3120\u001b[0;31m         \u001b[0mvalue\u001b[0m \u001b[0;34m=\u001b[0m \u001b[0mself\u001b[0m\u001b[0;34m.\u001b[0m\u001b[0m_sanitize_column\u001b[0m\u001b[0;34m(\u001b[0m\u001b[0mkey\u001b[0m\u001b[0;34m,\u001b[0m \u001b[0mvalue\u001b[0m\u001b[0;34m)\u001b[0m\u001b[0;34m\u001b[0m\u001b[0;34m\u001b[0m\u001b[0m\n\u001b[0m\u001b[1;32m   3121\u001b[0m         \u001b[0mNDFrame\u001b[0m\u001b[0;34m.\u001b[0m\u001b[0m_set_item\u001b[0m\u001b[0;34m(\u001b[0m\u001b[0mself\u001b[0m\u001b[0;34m,\u001b[0m \u001b[0mkey\u001b[0m\u001b[0;34m,\u001b[0m \u001b[0mvalue\u001b[0m\u001b[0;34m)\u001b[0m\u001b[0;34m\u001b[0m\u001b[0;34m\u001b[0m\u001b[0m\n\u001b[1;32m   3122\u001b[0m \u001b[0;34m\u001b[0m\u001b[0m\n",
      "\u001b[0;32m~/opt/anaconda3/envs/lighthouselabs_env/lib/python3.6/site-packages/pandas/core/frame.py\u001b[0m in \u001b[0;36m_sanitize_column\u001b[0;34m(self, key, value, broadcast)\u001b[0m\n\u001b[1;32m   3766\u001b[0m \u001b[0;34m\u001b[0m\u001b[0m\n\u001b[1;32m   3767\u001b[0m             \u001b[0;31m# turn me into an ndarray\u001b[0m\u001b[0;34m\u001b[0m\u001b[0;34m\u001b[0m\u001b[0;34m\u001b[0m\u001b[0m\n\u001b[0;32m-> 3768\u001b[0;31m             \u001b[0mvalue\u001b[0m \u001b[0;34m=\u001b[0m \u001b[0msanitize_index\u001b[0m\u001b[0;34m(\u001b[0m\u001b[0mvalue\u001b[0m\u001b[0;34m,\u001b[0m \u001b[0mself\u001b[0m\u001b[0;34m.\u001b[0m\u001b[0mindex\u001b[0m\u001b[0;34m)\u001b[0m\u001b[0;34m\u001b[0m\u001b[0;34m\u001b[0m\u001b[0m\n\u001b[0m\u001b[1;32m   3769\u001b[0m             \u001b[0;32mif\u001b[0m \u001b[0;32mnot\u001b[0m \u001b[0misinstance\u001b[0m\u001b[0;34m(\u001b[0m\u001b[0mvalue\u001b[0m\u001b[0;34m,\u001b[0m \u001b[0;34m(\u001b[0m\u001b[0mnp\u001b[0m\u001b[0;34m.\u001b[0m\u001b[0mndarray\u001b[0m\u001b[0;34m,\u001b[0m \u001b[0mIndex\u001b[0m\u001b[0;34m)\u001b[0m\u001b[0;34m)\u001b[0m\u001b[0;34m:\u001b[0m\u001b[0;34m\u001b[0m\u001b[0;34m\u001b[0m\u001b[0m\n\u001b[1;32m   3770\u001b[0m                 \u001b[0;32mif\u001b[0m \u001b[0misinstance\u001b[0m\u001b[0;34m(\u001b[0m\u001b[0mvalue\u001b[0m\u001b[0;34m,\u001b[0m \u001b[0mlist\u001b[0m\u001b[0;34m)\u001b[0m \u001b[0;32mand\u001b[0m \u001b[0mlen\u001b[0m\u001b[0;34m(\u001b[0m\u001b[0mvalue\u001b[0m\u001b[0;34m)\u001b[0m \u001b[0;34m>\u001b[0m \u001b[0;36m0\u001b[0m\u001b[0;34m:\u001b[0m\u001b[0;34m\u001b[0m\u001b[0;34m\u001b[0m\u001b[0m\n",
      "\u001b[0;32m~/opt/anaconda3/envs/lighthouselabs_env/lib/python3.6/site-packages/pandas/core/internals/construction.py\u001b[0m in \u001b[0;36msanitize_index\u001b[0;34m(data, index)\u001b[0m\n\u001b[1;32m    746\u001b[0m     \u001b[0;32mif\u001b[0m \u001b[0mlen\u001b[0m\u001b[0;34m(\u001b[0m\u001b[0mdata\u001b[0m\u001b[0;34m)\u001b[0m \u001b[0;34m!=\u001b[0m \u001b[0mlen\u001b[0m\u001b[0;34m(\u001b[0m\u001b[0mindex\u001b[0m\u001b[0;34m)\u001b[0m\u001b[0;34m:\u001b[0m\u001b[0;34m\u001b[0m\u001b[0;34m\u001b[0m\u001b[0m\n\u001b[1;32m    747\u001b[0m         raise ValueError(\n\u001b[0;32m--> 748\u001b[0;31m             \u001b[0;34m\"Length of values \"\u001b[0m\u001b[0;34m\u001b[0m\u001b[0;34m\u001b[0m\u001b[0m\n\u001b[0m\u001b[1;32m    749\u001b[0m             \u001b[0;34mf\"({len(data)}) \"\u001b[0m\u001b[0;34m\u001b[0m\u001b[0;34m\u001b[0m\u001b[0m\n\u001b[1;32m    750\u001b[0m             \u001b[0;34m\"does not match length of index \"\u001b[0m\u001b[0;34m\u001b[0m\u001b[0;34m\u001b[0m\u001b[0m\n",
      "\u001b[0;31mValueError\u001b[0m: Length of values (0) does not match length of index (5071774)"
     ]
    }
   ],
   "source": [
    "WNflights04['day'] = day\n",
    "WNflights04['month'] = month\n",
    "WNflights04['year'] = year"
   ]
  },
  {
   "cell_type": "code",
   "execution_count": 40,
   "id": "3d40fc6e-1aa2-496b-bca2-e1f74123e1a2",
   "metadata": {},
   "outputs": [
    {
     "ename": "KeyError",
     "evalue": "\"['month'] not in index\"",
     "output_type": "error",
     "traceback": [
      "\u001b[0;31m---------------------------------------------------------------------------\u001b[0m",
      "\u001b[0;31mKeyError\u001b[0m                                  Traceback (most recent call last)",
      "\u001b[0;32m<ipython-input-40-749702cc88be>\u001b[0m in \u001b[0;36m<module>\u001b[0;34m\u001b[0m\n\u001b[0;32m----> 1\u001b[0;31m \u001b[0mtest07\u001b[0m \u001b[0;34m=\u001b[0m \u001b[0mWNflights04\u001b[0m\u001b[0;34m[\u001b[0m\u001b[0;34m[\u001b[0m\u001b[0;34m'month'\u001b[0m\u001b[0;34m,\u001b[0m\u001b[0;34m'arr_delay'\u001b[0m\u001b[0;34m]\u001b[0m\u001b[0;34m]\u001b[0m\u001b[0;34m\u001b[0m\u001b[0;34m\u001b[0m\u001b[0m\n\u001b[0m\u001b[1;32m      2\u001b[0m \u001b[0mtest07\u001b[0m \u001b[0;34m=\u001b[0m \u001b[0mtest07\u001b[0m\u001b[0;34m.\u001b[0m\u001b[0mgroupby\u001b[0m\u001b[0;34m(\u001b[0m\u001b[0;34m[\u001b[0m\u001b[0;34m'month'\u001b[0m\u001b[0;34m]\u001b[0m\u001b[0;34m,\u001b[0m\u001b[0mas_index\u001b[0m\u001b[0;34m=\u001b[0m\u001b[0;32mFalse\u001b[0m\u001b[0;34m)\u001b[0m\u001b[0;34m.\u001b[0m\u001b[0mmean\u001b[0m\u001b[0;34m(\u001b[0m\u001b[0;34m)\u001b[0m\u001b[0;34m\u001b[0m\u001b[0;34m\u001b[0m\u001b[0m\n\u001b[1;32m      3\u001b[0m \u001b[0mtest07\u001b[0m \u001b[0;34m=\u001b[0m \u001b[0mtest07\u001b[0m\u001b[0;34m.\u001b[0m\u001b[0mrename\u001b[0m\u001b[0;34m(\u001b[0m\u001b[0;34m{\u001b[0m\u001b[0;34m'arr_delay'\u001b[0m\u001b[0;34m:\u001b[0m\u001b[0;34m'month_delay'\u001b[0m\u001b[0;34m}\u001b[0m\u001b[0;34m,\u001b[0m\u001b[0maxis\u001b[0m\u001b[0;34m=\u001b[0m\u001b[0;36m1\u001b[0m\u001b[0;34m)\u001b[0m\u001b[0;34m\u001b[0m\u001b[0;34m\u001b[0m\u001b[0m\n\u001b[1;32m      4\u001b[0m \u001b[0mtest07\u001b[0m \u001b[0;34m=\u001b[0m \u001b[0mtest07\u001b[0m\u001b[0;34m.\u001b[0m\u001b[0msort_values\u001b[0m\u001b[0;34m(\u001b[0m\u001b[0;34m'month_delay'\u001b[0m\u001b[0;34m,\u001b[0m\u001b[0mascending\u001b[0m\u001b[0;34m=\u001b[0m\u001b[0;32mFalse\u001b[0m\u001b[0;34m)\u001b[0m\u001b[0;34m\u001b[0m\u001b[0;34m\u001b[0m\u001b[0m\n",
      "\u001b[0;32m~/opt/anaconda3/envs/lighthouselabs_env/lib/python3.6/site-packages/pandas/core/frame.py\u001b[0m in \u001b[0;36m__getitem__\u001b[0;34m(self, key)\u001b[0m\n\u001b[1;32m   2910\u001b[0m             \u001b[0;32mif\u001b[0m \u001b[0mis_iterator\u001b[0m\u001b[0;34m(\u001b[0m\u001b[0mkey\u001b[0m\u001b[0;34m)\u001b[0m\u001b[0;34m:\u001b[0m\u001b[0;34m\u001b[0m\u001b[0;34m\u001b[0m\u001b[0m\n\u001b[1;32m   2911\u001b[0m                 \u001b[0mkey\u001b[0m \u001b[0;34m=\u001b[0m \u001b[0mlist\u001b[0m\u001b[0;34m(\u001b[0m\u001b[0mkey\u001b[0m\u001b[0;34m)\u001b[0m\u001b[0;34m\u001b[0m\u001b[0;34m\u001b[0m\u001b[0m\n\u001b[0;32m-> 2912\u001b[0;31m             \u001b[0mindexer\u001b[0m \u001b[0;34m=\u001b[0m \u001b[0mself\u001b[0m\u001b[0;34m.\u001b[0m\u001b[0mloc\u001b[0m\u001b[0;34m.\u001b[0m\u001b[0m_get_listlike_indexer\u001b[0m\u001b[0;34m(\u001b[0m\u001b[0mkey\u001b[0m\u001b[0;34m,\u001b[0m \u001b[0maxis\u001b[0m\u001b[0;34m=\u001b[0m\u001b[0;36m1\u001b[0m\u001b[0;34m,\u001b[0m \u001b[0mraise_missing\u001b[0m\u001b[0;34m=\u001b[0m\u001b[0;32mTrue\u001b[0m\u001b[0;34m)\u001b[0m\u001b[0;34m[\u001b[0m\u001b[0;36m1\u001b[0m\u001b[0;34m]\u001b[0m\u001b[0;34m\u001b[0m\u001b[0;34m\u001b[0m\u001b[0m\n\u001b[0m\u001b[1;32m   2913\u001b[0m \u001b[0;34m\u001b[0m\u001b[0m\n\u001b[1;32m   2914\u001b[0m         \u001b[0;31m# take() does not accept boolean indexers\u001b[0m\u001b[0;34m\u001b[0m\u001b[0;34m\u001b[0m\u001b[0;34m\u001b[0m\u001b[0m\n",
      "\u001b[0;32m~/opt/anaconda3/envs/lighthouselabs_env/lib/python3.6/site-packages/pandas/core/indexing.py\u001b[0m in \u001b[0;36m_get_listlike_indexer\u001b[0;34m(self, key, axis, raise_missing)\u001b[0m\n\u001b[1;32m   1252\u001b[0m             \u001b[0mkeyarr\u001b[0m\u001b[0;34m,\u001b[0m \u001b[0mindexer\u001b[0m\u001b[0;34m,\u001b[0m \u001b[0mnew_indexer\u001b[0m \u001b[0;34m=\u001b[0m \u001b[0max\u001b[0m\u001b[0;34m.\u001b[0m\u001b[0m_reindex_non_unique\u001b[0m\u001b[0;34m(\u001b[0m\u001b[0mkeyarr\u001b[0m\u001b[0;34m)\u001b[0m\u001b[0;34m\u001b[0m\u001b[0;34m\u001b[0m\u001b[0m\n\u001b[1;32m   1253\u001b[0m \u001b[0;34m\u001b[0m\u001b[0m\n\u001b[0;32m-> 1254\u001b[0;31m         \u001b[0mself\u001b[0m\u001b[0;34m.\u001b[0m\u001b[0m_validate_read_indexer\u001b[0m\u001b[0;34m(\u001b[0m\u001b[0mkeyarr\u001b[0m\u001b[0;34m,\u001b[0m \u001b[0mindexer\u001b[0m\u001b[0;34m,\u001b[0m \u001b[0maxis\u001b[0m\u001b[0;34m,\u001b[0m \u001b[0mraise_missing\u001b[0m\u001b[0;34m=\u001b[0m\u001b[0mraise_missing\u001b[0m\u001b[0;34m)\u001b[0m\u001b[0;34m\u001b[0m\u001b[0;34m\u001b[0m\u001b[0m\n\u001b[0m\u001b[1;32m   1255\u001b[0m         \u001b[0;32mreturn\u001b[0m \u001b[0mkeyarr\u001b[0m\u001b[0;34m,\u001b[0m \u001b[0mindexer\u001b[0m\u001b[0;34m\u001b[0m\u001b[0;34m\u001b[0m\u001b[0m\n\u001b[1;32m   1256\u001b[0m \u001b[0;34m\u001b[0m\u001b[0m\n",
      "\u001b[0;32m~/opt/anaconda3/envs/lighthouselabs_env/lib/python3.6/site-packages/pandas/core/indexing.py\u001b[0m in \u001b[0;36m_validate_read_indexer\u001b[0;34m(self, key, indexer, axis, raise_missing)\u001b[0m\n\u001b[1;32m   1302\u001b[0m             \u001b[0;32mif\u001b[0m \u001b[0mraise_missing\u001b[0m\u001b[0;34m:\u001b[0m\u001b[0;34m\u001b[0m\u001b[0;34m\u001b[0m\u001b[0m\n\u001b[1;32m   1303\u001b[0m                 \u001b[0mnot_found\u001b[0m \u001b[0;34m=\u001b[0m \u001b[0mlist\u001b[0m\u001b[0;34m(\u001b[0m\u001b[0mset\u001b[0m\u001b[0;34m(\u001b[0m\u001b[0mkey\u001b[0m\u001b[0;34m)\u001b[0m \u001b[0;34m-\u001b[0m \u001b[0mset\u001b[0m\u001b[0;34m(\u001b[0m\u001b[0max\u001b[0m\u001b[0;34m)\u001b[0m\u001b[0;34m)\u001b[0m\u001b[0;34m\u001b[0m\u001b[0;34m\u001b[0m\u001b[0m\n\u001b[0;32m-> 1304\u001b[0;31m                 \u001b[0;32mraise\u001b[0m \u001b[0mKeyError\u001b[0m\u001b[0;34m(\u001b[0m\u001b[0;34mf\"{not_found} not in index\"\u001b[0m\u001b[0;34m)\u001b[0m\u001b[0;34m\u001b[0m\u001b[0;34m\u001b[0m\u001b[0m\n\u001b[0m\u001b[1;32m   1305\u001b[0m \u001b[0;34m\u001b[0m\u001b[0m\n\u001b[1;32m   1306\u001b[0m             \u001b[0;31m# we skip the warning on Categorical\u001b[0m\u001b[0;34m\u001b[0m\u001b[0;34m\u001b[0m\u001b[0;34m\u001b[0m\u001b[0m\n",
      "\u001b[0;31mKeyError\u001b[0m: \"['month'] not in index\""
     ]
    }
   ],
   "source": [
    "test07 = WNflights04[['month','arr_delay']]\n",
    "test07 = test07.groupby(['month'],as_index=False).mean()\n",
    "test07 = test07.rename({'arr_delay':'month_delay'},axis=1)\n",
    "test07 = test07.sort_values('month_delay',ascending=False)"
   ]
  },
  {
   "cell_type": "code",
   "execution_count": 39,
   "id": "3450f100-17e0-48fd-86a6-2718dbc12710",
   "metadata": {},
   "outputs": [
    {
     "ename": "NameError",
     "evalue": "name 'test07' is not defined",
     "output_type": "error",
     "traceback": [
      "\u001b[0;31m---------------------------------------------------------------------------\u001b[0m",
      "\u001b[0;31mNameError\u001b[0m                                 Traceback (most recent call last)",
      "\u001b[0;32m<ipython-input-39-a8ff7c27580c>\u001b[0m in \u001b[0;36m<module>\u001b[0;34m\u001b[0m\n\u001b[0;32m----> 1\u001b[0;31m \u001b[0mtest07\u001b[0m\u001b[0;34m\u001b[0m\u001b[0;34m\u001b[0m\u001b[0m\n\u001b[0m",
      "\u001b[0;31mNameError\u001b[0m: name 'test07' is not defined"
     ]
    }
   ],
   "source": [
    "test07"
   ]
  },
  {
   "cell_type": "code",
   "execution_count": null,
   "id": "0a9c5597-044c-47f3-b8f2-b403245d910a",
   "metadata": {},
   "outputs": [],
   "source": [
    "plt.figure(figsize=(20,10))\n",
    "test07.plot.bar(fontsize=13)\n",
    "plt.title('Month Delay',fontsize=20)\n",
    "plt.xlabel('Month', fontsize=16)\n",
    "plt.ylabel('Delay', fontsize=16)\n",
    "plt.rc('xtick',labelsize=10)\n",
    "plt.rc('ytick',labelsize=10)\n",
    "plt.show()"
   ]
  },
  {
   "cell_type": "code",
   "execution_count": null,
   "id": "7a391c39-b1c6-459f-a040-16807bc64f14",
   "metadata": {},
   "outputs": [],
   "source": [
    "#test08 = WNflights04.groupby(['origin_airport_id','dest_airport_id','mkt_carrier']).mean()['arr_delay']"
   ]
  },
  {
   "cell_type": "code",
   "execution_count": null,
   "id": "666f9a1d-c0ca-4ae5-952b-c1a3143d4500",
   "metadata": {},
   "outputs": [],
   "source": [
    "#test08.index"
   ]
  },
  {
   "cell_type": "code",
   "execution_count": 37,
   "id": "fcf30903-b09a-42be-9bc3-ee85db427267",
   "metadata": {},
   "outputs": [],
   "source": [
    "flightFinal = WNflights04.copy()"
   ]
  },
  {
   "cell_type": "code",
   "execution_count": 38,
   "id": "d98f13bf-7144-4fdf-91e8-86466a40f3b4",
   "metadata": {},
   "outputs": [
    {
     "ename": "NameError",
     "evalue": "name 'test07' is not defined",
     "output_type": "error",
     "traceback": [
      "\u001b[0;31m---------------------------------------------------------------------------\u001b[0m",
      "\u001b[0;31mNameError\u001b[0m                                 Traceback (most recent call last)",
      "\u001b[0;32m<ipython-input-38-c1faf6743f54>\u001b[0m in \u001b[0;36m<module>\u001b[0;34m\u001b[0m\n\u001b[0;32m----> 1\u001b[0;31m \u001b[0mflightFinal\u001b[0m \u001b[0;34m=\u001b[0m \u001b[0mflightFinal\u001b[0m\u001b[0;34m.\u001b[0m\u001b[0mmerge\u001b[0m\u001b[0;34m(\u001b[0m\u001b[0mtest07\u001b[0m\u001b[0;34m,\u001b[0m\u001b[0mon\u001b[0m\u001b[0;34m=\u001b[0m\u001b[0;34m'month'\u001b[0m\u001b[0;34m)\u001b[0m\u001b[0;34m\u001b[0m\u001b[0;34m\u001b[0m\u001b[0m\n\u001b[0m",
      "\u001b[0;31mNameError\u001b[0m: name 'test07' is not defined"
     ]
    }
   ],
   "source": [
    "flightFinal = flightFinal.merge(test07,on='month')"
   ]
  },
  {
   "cell_type": "code",
   "execution_count": null,
   "id": "1c3629f7-524f-4b48-8185-ba460ae20bfd",
   "metadata": {},
   "outputs": [],
   "source": [
    "test_3.head()"
   ]
  },
  {
   "cell_type": "code",
   "execution_count": null,
   "id": "54323c2d-b2a6-43c9-a064-66b9b2fadf92",
   "metadata": {},
   "outputs": [],
   "source": [
    "flightFinal = flightFinal.merge(test_3,on='mkt_carrier')"
   ]
  },
  {
   "cell_type": "code",
   "execution_count": 1,
   "id": "8d0deaf7-c601-4e9c-9e31-477efea9ad02",
   "metadata": {},
   "outputs": [
    {
     "ename": "NameError",
     "evalue": "name 'overview' is not defined",
     "output_type": "error",
     "traceback": [
      "\u001b[0;31m---------------------------------------------------------------------------\u001b[0m",
      "\u001b[0;31mNameError\u001b[0m                                 Traceback (most recent call last)",
      "\u001b[0;32m<ipython-input-1-40bc7599471c>\u001b[0m in \u001b[0;36m<module>\u001b[0;34m\u001b[0m\n\u001b[0;32m----> 1\u001b[0;31m \u001b[0moverview\u001b[0m \u001b[0;34m=\u001b[0m \u001b[0moverview\u001b[0m\u001b[0;34m.\u001b[0m\u001b[0mdrop\u001b[0m\u001b[0;34m(\u001b[0m\u001b[0;34m[\u001b[0m\u001b[0;34m'flight_status'\u001b[0m\u001b[0;34m]\u001b[0m\u001b[0;34m,\u001b[0m \u001b[0maxis\u001b[0m \u001b[0;34m=\u001b[0m \u001b[0;36m1\u001b[0m\u001b[0;34m)\u001b[0m\u001b[0;34m\u001b[0m\u001b[0;34m\u001b[0m\u001b[0m\n\u001b[0m",
      "\u001b[0;31mNameError\u001b[0m: name 'overview' is not defined"
     ]
    }
   ],
   "source": [
    "overview = overview.drop(['flight_status'], axis = 1)"
   ]
  },
  {
   "cell_type": "code",
   "execution_count": null,
   "id": "483230db-3743-4099-adee-b2299cb26c8f",
   "metadata": {},
   "outputs": [],
   "source": [
    "flightFinal = flightFinal.merge(overview,on='mkt_carrier')"
   ]
  },
  {
   "cell_type": "code",
   "execution_count": null,
   "id": "e0878695-52b7-4099-81a9-34fecd0da14d",
   "metadata": {},
   "outputs": [],
   "source": [
    "flightFinal.drop(['flight_status','dep_delay'],axis=1,inplace=True)"
   ]
  },
  {
   "cell_type": "code",
   "execution_count": null,
   "id": "c216d773-7d31-4eb3-be51-b5597abbea5b",
   "metadata": {},
   "outputs": [],
   "source": [
    "flightFinalTrain = flightFinal.drop(['fl_date','origin_city_name','dest_city_name'],axis=1)"
   ]
  },
  {
   "cell_type": "code",
   "execution_count": null,
   "id": "0e3d9822-d52b-412b-b73c-c6a6f6e6dcf7",
   "metadata": {},
   "outputs": [],
   "source": [
    "flightFinal.to_csv('../../../data/flights/flightFinal.csv')"
   ]
  },
  {
   "cell_type": "code",
   "execution_count": null,
   "id": "a87c5996-ed97-4385-b9c2-08da04c86a18",
   "metadata": {},
   "outputs": [],
   "source": [
    "flightFinalTrain.to_csv('../../../data/flights/flightFinalTrain.csv')"
   ]
  },
  {
   "cell_type": "code",
   "execution_count": null,
   "id": "984645ad-87ca-49a2-b3b1-18f0de722df1",
   "metadata": {},
   "outputs": [],
   "source": [
    "flightFinal.head()"
   ]
  },
  {
   "cell_type": "code",
   "execution_count": null,
   "id": "f89f489f-03f3-46d9-9af8-27e6bd40323a",
   "metadata": {},
   "outputs": [],
   "source": [
    "# Turn the categories into numbers\n",
    "from sklearn.preprocessing import OneHotEncoder\n",
    "from sklearn.compose import ColumnTransformer\n",
    "\n",
    "categorical_features = [\"mkt_carrier\", \"tail_num\"]\n",
    "one_hot = OneHotEncoder()\n",
    "transformer = ColumnTransformer([(\"one_hot\",\n",
    "                                   one_hot,\n",
    "                                   categorical_features)],\n",
    "                                   remainder=\"passthrough\")\n",
    "\n",
    "transformed_X = transformer.fit_transform(flightFinalTrain)\n",
    "transformed_X"
   ]
  },
  {
   "cell_type": "code",
   "execution_count": null,
   "id": "2cd68fd1-202d-436c-a861-b17330a2c599",
   "metadata": {},
   "outputs": [],
   "source": []
  },
  {
   "cell_type": "code",
   "execution_count": null,
   "id": "41af9e75-2d0d-4246-be8f-1b28ea663c1f",
   "metadata": {},
   "outputs": [],
   "source": []
  },
  {
   "cell_type": "code",
   "execution_count": null,
   "id": "e28bc428-cece-47d2-9539-701537b37f21",
   "metadata": {},
   "outputs": [],
   "source": []
  }
 ],
 "metadata": {
  "kernelspec": {
   "display_name": "lighthouselabs_env",
   "language": "python",
   "name": "lighthouselabs_env"
  },
  "language_info": {
   "codemirror_mode": {
    "name": "ipython",
    "version": 3
   },
   "file_extension": ".py",
   "mimetype": "text/x-python",
   "name": "python",
   "nbconvert_exporter": "python",
   "pygments_lexer": "ipython3",
   "version": "3.6.10"
  }
 },
 "nbformat": 4,
 "nbformat_minor": 5
}
