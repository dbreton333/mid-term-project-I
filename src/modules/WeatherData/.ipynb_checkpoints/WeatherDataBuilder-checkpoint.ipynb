{
 "cells": [
  {
   "cell_type": "code",
   "execution_count": 1,
   "metadata": {},
   "outputs": [],
   "source": [
    "import pandas as pd\n",
    "import numpy as np\n",
    "import psycopg2\n",
    "import pandas.io.sql as sqlio\n",
    "import requests as re\n",
    "from IPython.display import JSON\n",
    "import json"
   ]
  },
  {
   "cell_type": "code",
   "execution_count": 2,
   "metadata": {},
   "outputs": [],
   "source": [
    "flights = pd.read_csv('../../../data/flights/flightFinal.csv')"
   ]
  },
  {
   "cell_type": "code",
   "execution_count": 3,
   "metadata": {},
   "outputs": [
    {
     "data": {
      "text/html": [
       "<div>\n",
       "<style scoped>\n",
       "    .dataframe tbody tr th:only-of-type {\n",
       "        vertical-align: middle;\n",
       "    }\n",
       "\n",
       "    .dataframe tbody tr th {\n",
       "        vertical-align: top;\n",
       "    }\n",
       "\n",
       "    .dataframe thead th {\n",
       "        text-align: right;\n",
       "    }\n",
       "</style>\n",
       "<table border=\"1\" class=\"dataframe\">\n",
       "  <thead>\n",
       "    <tr style=\"text-align: right;\">\n",
       "      <th></th>\n",
       "      <th>Unnamed: 0</th>\n",
       "      <th>fl_date</th>\n",
       "      <th>mkt_carrier</th>\n",
       "      <th>tail_num</th>\n",
       "      <th>op_carrier_fl_num</th>\n",
       "      <th>origin_airport_id</th>\n",
       "      <th>origin_city_name</th>\n",
       "      <th>dest_airport_id</th>\n",
       "      <th>dest_city_name</th>\n",
       "      <th>crs_dep_time</th>\n",
       "      <th>crs_arr_time</th>\n",
       "      <th>arr_delay</th>\n",
       "      <th>crs_elapsed_time</th>\n",
       "      <th>distance</th>\n",
       "      <th>day</th>\n",
       "      <th>month</th>\n",
       "      <th>year</th>\n",
       "      <th>month_delay</th>\n",
       "      <th>carrier_delay</th>\n",
       "      <th>carrier_perc_delay</th>\n",
       "    </tr>\n",
       "  </thead>\n",
       "  <tbody>\n",
       "    <tr>\n",
       "      <th>0</th>\n",
       "      <td>0</td>\n",
       "      <td>2018-11-10</td>\n",
       "      <td>WN</td>\n",
       "      <td>N282WN</td>\n",
       "      <td>2015</td>\n",
       "      <td>12892</td>\n",
       "      <td>Los Angeles, CA</td>\n",
       "      <td>10140</td>\n",
       "      <td>Albuquerque, NM</td>\n",
       "      <td>1235</td>\n",
       "      <td>1535</td>\n",
       "      <td>6.0</td>\n",
       "      <td>120.0</td>\n",
       "      <td>677</td>\n",
       "      <td>10</td>\n",
       "      <td>11</td>\n",
       "      <td>2018</td>\n",
       "      <td>3.454152</td>\n",
       "      <td>4.566613</td>\n",
       "      <td>19.68</td>\n",
       "    </tr>\n",
       "    <tr>\n",
       "      <th>1</th>\n",
       "      <td>1</td>\n",
       "      <td>2018-11-10</td>\n",
       "      <td>WN</td>\n",
       "      <td>N411WN</td>\n",
       "      <td>3788</td>\n",
       "      <td>12892</td>\n",
       "      <td>Los Angeles, CA</td>\n",
       "      <td>10140</td>\n",
       "      <td>Albuquerque, NM</td>\n",
       "      <td>1840</td>\n",
       "      <td>2125</td>\n",
       "      <td>1.0</td>\n",
       "      <td>105.0</td>\n",
       "      <td>677</td>\n",
       "      <td>10</td>\n",
       "      <td>11</td>\n",
       "      <td>2018</td>\n",
       "      <td>3.454152</td>\n",
       "      <td>4.566613</td>\n",
       "      <td>19.68</td>\n",
       "    </tr>\n",
       "    <tr>\n",
       "      <th>2</th>\n",
       "      <td>2</td>\n",
       "      <td>2018-11-10</td>\n",
       "      <td>WN</td>\n",
       "      <td>N556WN</td>\n",
       "      <td>3301</td>\n",
       "      <td>12892</td>\n",
       "      <td>Los Angeles, CA</td>\n",
       "      <td>10397</td>\n",
       "      <td>Atlanta, GA</td>\n",
       "      <td>805</td>\n",
       "      <td>1515</td>\n",
       "      <td>-12.0</td>\n",
       "      <td>250.0</td>\n",
       "      <td>1947</td>\n",
       "      <td>10</td>\n",
       "      <td>11</td>\n",
       "      <td>2018</td>\n",
       "      <td>3.454152</td>\n",
       "      <td>4.566613</td>\n",
       "      <td>19.68</td>\n",
       "    </tr>\n",
       "    <tr>\n",
       "      <th>3</th>\n",
       "      <td>3</td>\n",
       "      <td>2018-11-10</td>\n",
       "      <td>WN</td>\n",
       "      <td>N8648A</td>\n",
       "      <td>3525</td>\n",
       "      <td>12892</td>\n",
       "      <td>Los Angeles, CA</td>\n",
       "      <td>10397</td>\n",
       "      <td>Atlanta, GA</td>\n",
       "      <td>1045</td>\n",
       "      <td>1805</td>\n",
       "      <td>-20.0</td>\n",
       "      <td>260.0</td>\n",
       "      <td>1947</td>\n",
       "      <td>10</td>\n",
       "      <td>11</td>\n",
       "      <td>2018</td>\n",
       "      <td>3.454152</td>\n",
       "      <td>4.566613</td>\n",
       "      <td>19.68</td>\n",
       "    </tr>\n",
       "    <tr>\n",
       "      <th>4</th>\n",
       "      <td>4</td>\n",
       "      <td>2018-11-10</td>\n",
       "      <td>WN</td>\n",
       "      <td>N8550Q</td>\n",
       "      <td>854</td>\n",
       "      <td>12892</td>\n",
       "      <td>Los Angeles, CA</td>\n",
       "      <td>10423</td>\n",
       "      <td>Austin, TX</td>\n",
       "      <td>1030</td>\n",
       "      <td>1535</td>\n",
       "      <td>-12.0</td>\n",
       "      <td>185.0</td>\n",
       "      <td>1242</td>\n",
       "      <td>10</td>\n",
       "      <td>11</td>\n",
       "      <td>2018</td>\n",
       "      <td>3.454152</td>\n",
       "      <td>4.566613</td>\n",
       "      <td>19.68</td>\n",
       "    </tr>\n",
       "  </tbody>\n",
       "</table>\n",
       "</div>"
      ],
      "text/plain": [
       "   Unnamed: 0     fl_date mkt_carrier tail_num  op_carrier_fl_num  \\\n",
       "0           0  2018-11-10          WN   N282WN               2015   \n",
       "1           1  2018-11-10          WN   N411WN               3788   \n",
       "2           2  2018-11-10          WN   N556WN               3301   \n",
       "3           3  2018-11-10          WN   N8648A               3525   \n",
       "4           4  2018-11-10          WN   N8550Q                854   \n",
       "\n",
       "   origin_airport_id origin_city_name  dest_airport_id   dest_city_name  \\\n",
       "0              12892  Los Angeles, CA            10140  Albuquerque, NM   \n",
       "1              12892  Los Angeles, CA            10140  Albuquerque, NM   \n",
       "2              12892  Los Angeles, CA            10397      Atlanta, GA   \n",
       "3              12892  Los Angeles, CA            10397      Atlanta, GA   \n",
       "4              12892  Los Angeles, CA            10423       Austin, TX   \n",
       "\n",
       "   crs_dep_time  crs_arr_time  arr_delay  crs_elapsed_time  distance  day  \\\n",
       "0          1235          1535        6.0             120.0       677   10   \n",
       "1          1840          2125        1.0             105.0       677   10   \n",
       "2           805          1515      -12.0             250.0      1947   10   \n",
       "3          1045          1805      -20.0             260.0      1947   10   \n",
       "4          1030          1535      -12.0             185.0      1242   10   \n",
       "\n",
       "   month  year  month_delay  carrier_delay  carrier_perc_delay  \n",
       "0     11  2018     3.454152       4.566613               19.68  \n",
       "1     11  2018     3.454152       4.566613               19.68  \n",
       "2     11  2018     3.454152       4.566613               19.68  \n",
       "3     11  2018     3.454152       4.566613               19.68  \n",
       "4     11  2018     3.454152       4.566613               19.68  "
      ]
     },
     "execution_count": 3,
     "metadata": {},
     "output_type": "execute_result"
    }
   ],
   "source": [
    "flights.head()"
   ]
  },
  {
   "cell_type": "code",
   "execution_count": 4,
   "metadata": {},
   "outputs": [],
   "source": [
    "depcities = flights.origin_city_name.unique()"
   ]
  },
  {
   "cell_type": "code",
   "execution_count": 6,
   "metadata": {},
   "outputs": [],
   "source": [
    "destcities = flights.dest_city_name.unique()"
   ]
  },
  {
   "cell_type": "code",
   "execution_count": 8,
   "metadata": {},
   "outputs": [
    {
     "data": {
      "text/plain": [
       "302"
      ]
     },
     "execution_count": 8,
     "metadata": {},
     "output_type": "execute_result"
    }
   ],
   "source": [
    "len(destcities)"
   ]
  },
  {
   "cell_type": "code",
   "execution_count": 9,
   "metadata": {},
   "outputs": [
    {
     "name": "stdout",
     "output_type": "stream",
     "text": [
      "Atlanta, GA\n",
      "Denver, CO\n",
      "Houston, TX\n",
      "Chicago, IL\n",
      "Phoenix, AZ\n",
      "San Francisco, CA\n",
      "Los Angeles, CA\n",
      "Seattle, WA\n",
      "Dallas/Fort Worth, TX\n",
      "Charlotte, NC\n"
     ]
    }
   ],
   "source": [
    "for index,element in enumerate(destcities):\n",
    "    if element in depcities:\n",
    "        print(element)\n",
    "        destcities = np.delete(destcities,index)"
   ]
  },
  {
   "cell_type": "code",
   "execution_count": 10,
   "metadata": {},
   "outputs": [
    {
     "data": {
      "text/plain": [
       "292"
      ]
     },
     "execution_count": 10,
     "metadata": {},
     "output_type": "execute_result"
    }
   ],
   "source": [
    "len(destcities)"
   ]
  },
  {
   "cell_type": "code",
   "execution_count": 11,
   "metadata": {},
   "outputs": [],
   "source": [
    "depcities[7] = 'Dallas, TX'"
   ]
  },
  {
   "cell_type": "code",
   "execution_count": 12,
   "metadata": {},
   "outputs": [],
   "source": [
    "for index, city in enumerate(destcities):\n",
    "    if '/' in city:\n",
    "        splits = city.split(sep='/')\n",
    "        city = splits[0] + ',' + splits[-1].split(sep=',')[-1]\n",
    "        destcities[index] = city"
   ]
  },
  {
   "cell_type": "code",
   "execution_count": 20,
   "metadata": {},
   "outputs": [],
   "source": [
    "start = flights['fl_date'].min()"
   ]
  },
  {
   "cell_type": "code",
   "execution_count": 21,
   "metadata": {},
   "outputs": [
    {
     "data": {
      "text/plain": [
       "'2018-01-01'"
      ]
     },
     "execution_count": 21,
     "metadata": {},
     "output_type": "execute_result"
    }
   ],
   "source": [
    "start"
   ]
  },
  {
   "cell_type": "code",
   "execution_count": 17,
   "metadata": {},
   "outputs": [],
   "source": [
    "end = flights['fl_date'].max()"
   ]
  },
  {
   "cell_type": "code",
   "execution_count": 22,
   "metadata": {},
   "outputs": [
    {
     "data": {
      "text/plain": [
       "'2019-12-31'"
      ]
     },
     "execution_count": 22,
     "metadata": {},
     "output_type": "execute_result"
    }
   ],
   "source": [
    "end"
   ]
  },
  {
   "cell_type": "code",
   "execution_count": 27,
   "metadata": {},
   "outputs": [],
   "source": [
    "years = ['2018','2019']\n",
    "months = ['01','02','03','04','05','06','07','08','09','10','11','12']\n",
    "city = 'Atlanta, GA'\n",
    "for city in depcities:\n",
    "    for year in years:\n",
    "        for index,month in enumerate(months):\n",
    "            day = '01'\n",
    "            city2 = city.replace(\" \",\"\")\n",
    "            city3 = city2.replace(\",\", \"\")\n",
    "            if month != '12':\n",
    "                nextmonth = months[index+1]\n",
    "            else:\n",
    "                nextmonth = '12'\n",
    "                day = '31'\n",
    "            res = re.get('http://api.worldweatheronline.com/premium/v1/past-weather.ashx',\n",
    "                         params={'q':city,'date':year+'-'+month+'-'+'01',\n",
    "                                 'enddate':year+'-'+nextmonth+'-'+day,\n",
    "                                 'format':'json','key':'ff724f4ddab844c992b153222210106'})\n",
    "            jsonRes = res.json()\n",
    "            out_file = open(\"../../../data/weather/\"+year+month+city3+\".json\", \"w\") \n",
    "            json.dump(jsonRes, out_file) "
   ]
  },
  {
   "cell_type": "code",
   "execution_count": 19,
   "metadata": {},
   "outputs": [],
   "source": [
    "for city in  destcities:\n",
    "    city2 = city.replace(\" \",\"\")\n",
    "    city3 = city2.replace(\",\", \"\")\n",
    "    res = re.get('http://api.worldweatheronline.com/premium/v1/past-weather.ashx',params={'q':city,'date':'2018-01-01','enddate':'2019-12-31','format':'json','key':'ff724f4ddab844c992b153222210106'})\n",
    "    jsonRes = res.json()\n",
    "    out_file = open(\"../../../data/weather/\"+city3+\".json\", \"w\") \n",
    "    json.dump(jsonRes, out_file) "
   ]
  }
 ],
 "metadata": {
  "kernelspec": {
   "display_name": "bootCampEnv",
   "language": "python",
   "name": "bootcampenv"
  },
  "language_info": {
   "codemirror_mode": {
    "name": "ipython",
    "version": 3
   },
   "file_extension": ".py",
   "mimetype": "text/x-python",
   "name": "python",
   "nbconvert_exporter": "python",
   "pygments_lexer": "ipython3",
   "version": "3.6.12"
  }
 },
 "nbformat": 4,
 "nbformat_minor": 4
}
